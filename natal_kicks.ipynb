{
 "cells": [
  {
   "cell_type": "markdown",
   "metadata": {},
   "source": [
    "Load libraries and set up environment"
   ]
  },
  {
   "cell_type": "code",
   "execution_count": 1,
   "metadata": {
    "collapsed": true
   },
   "outputs": [],
   "source": [
    "import sympy\n",
    "sympy.init_printing()"
   ]
  },
  {
   "cell_type": "markdown",
   "metadata": {},
   "source": [
    "We consider two gravitating point objects with masses $M_1$ and $M_2$, separated by a distance $a$. The orbital frequency is given by $\\Omega = \\sqrt{G \\left(M_1 + M_2\\right)/a^3}$."
   ]
  },
  {
   "cell_type": "markdown",
   "metadata": {},
   "source": [
    "The energy is given by"
   ]
  },
  {
   "cell_type": "code",
   "execution_count": 6,
   "metadata": {},
   "outputs": [
    {
     "data": {
      "image/png": "[encoded data removed]",
      "text/latex": [
       "$$- \\frac{G M_{1} M_{2}^{2}}{2 a \\left(M_{1} + M_{2}\\right)}$$"
      ],
      "text/plain": [
       "          2  \n",
       "  -G⋅M₁⋅M₂   \n",
       "─────────────\n",
       "2⋅a⋅(M₁ + M₂)"
      ]
     },
     "execution_count": 6,
     "metadata": {},
     "output_type": "execute_result"
    }
   ],
   "source": [
    "M_1 = sympy.Symbol('M_1', positive=True)\n",
    "M_2 = sympy.Symbol('M_2', positive=True)\n",
    "a = sympy.Symbol('a', positive=True)\n",
    "Omega = sympy.Symbol('Omega', positive=True) # Orbital frequency\n",
    "G = sympy.Symbol('G', positive=True) # Gravitation constant\n",
    "temp = -G*M_1*M_2/a + M_1*(Omega*a*M_2/(M_1+M_2))**2/2 + M_2*(Omega*a*M_1/(M_1+M_2))**2\n",
    "temp = temp.subs(Omega, sympy.sqrt(G*(M_1+M_2)/a**3))\n",
    "before_energy = temp.simplify()\n",
    "before_energy"
   ]
  },
  {
   "cell_type": "markdown",
   "metadata": {},
   "source": [
    "The angular momentum is given by"
   ]
  },
  {
   "cell_type": "code",
   "execution_count": 11,
   "metadata": {},
   "outputs": [
    {
     "data": {
      "image/png": "[encoded data removed]",
      "text/latex": [
       "$$\\frac{\\sqrt{G} M_{1} M_{2} \\sqrt{a}}{\\sqrt{M_{1} + M_{2}}}$$"
      ],
      "text/plain": [
       "√G⋅M₁⋅M₂⋅√a\n",
       "───────────\n",
       "  _________\n",
       "╲╱ M₁ + M₂ "
      ]
     },
     "execution_count": 11,
     "metadata": {},
     "output_type": "execute_result"
    }
   ],
   "source": [
    "temp = M_1*Omega*(a*M_2/(M_1+M_2))**2 + M_2*Omega*(a*M_1/(M_1+M_2))**2\n",
    "temp = temp.subs(Omega, sympy.sqrt(G*(M_1+M_2)/a**3))\n",
    "before_angular_momentum = temp.simplify()\n",
    "before_angular_momentum"
   ]
  },
  {
   "cell_type": "markdown",
   "metadata": {},
   "source": [
    "Now suppose that body $M_1$ undergoes an explosion. This explosion has two effects which change the orbit. First, $M_1$ expels some of its mass, so the mass of the remaining body is $\\chi M_1$. Second, $M_1$ receives a kick. The magnitude of the kick velocity is $v_n$ (where subscript $n$ stands for natal kick, instead of subscript $k$, which might be confused with the Keplerian velocity). We denote the angle between the kick velocity and the angular momentum by $\\theta$, and the angle between the kick velocity and the orbital velocity before the explosion, in the plane of motion, by $\\phi$. We proceed to calculate the new energy and angular momentum."
   ]
  },
  {
   "cell_type": "code",
   "execution_count": 16,
   "metadata": {},
   "outputs": [
    {
     "data": {
      "image/png": "[encoded data removed]",
      "text/latex": [
       "$$\\left[\\begin{matrix}\\frac{\\sqrt{G} M_{2}}{\\sqrt{a} \\sqrt{M_{1} + M_{2}}}\\\\0\\\\0\\end{matrix}\\right]$$"
      ],
      "text/plain": [
       "⎡    √G⋅M₂     ⎤\n",
       "⎢──────────────⎥\n",
       "⎢     _________⎥\n",
       "⎢√a⋅╲╱ M₁ + M₂ ⎥\n",
       "⎢              ⎥\n",
       "⎢      0       ⎥\n",
       "⎢              ⎥\n",
       "⎣      0       ⎦"
      ]
     },
     "execution_count": 16,
     "metadata": {},
     "output_type": "execute_result"
    }
   ],
   "source": [
    "before_velocity_vector = sympy.Matrix([Omega*a*M_2/(M_1+M_2),0,0]).subs(Omega, sympy.sqrt(G*(M_1+M_2)/a**3))\n",
    "before_velocity_vector"
   ]
  },
  {
   "cell_type": "code",
   "execution_count": 21,
   "metadata": {},
   "outputs": [
    {
     "data": {
      "image/png": "[encoded data removed]",
      "text/latex": [
       "$$\\left[\\begin{matrix}v_{n} \\sin{\\left (\\theta \\right )} \\cos{\\left (\\phi \\right )}\\\\v_{n} \\sin{\\left (\\phi \\right )} \\sin{\\left (\\theta \\right )}\\\\v_{n} \\cos{\\left (\\theta \\right )}\\end{matrix}\\right]$$"
      ],
      "text/plain": [
       "⎡vₙ⋅sin(θ)⋅cos(φ)⎤\n",
       "⎢                ⎥\n",
       "⎢vₙ⋅sin(φ)⋅sin(θ)⎥\n",
       "⎢                ⎥\n",
       "⎣   vₙ⋅cos(θ)    ⎦"
      ]
     },
     "execution_count": 21,
     "metadata": {},
     "output_type": "execute_result"
    }
   ],
   "source": [
    "v_n = sympy.Symbol('v_n', positive=True)\n",
    "theta = sympy.Symbol('theta', positive=True)\n",
    "phi = sympy.Symbol('phi', positive=True)\n",
    "kick_velocity_vector = v_n*sympy.Matrix([sympy.sin(theta)*sympy.cos(phi), \n",
    "                                         sympy.sin(theta)*sympy.sin(phi), \n",
    "                                         sympy.cos(theta)])\n",
    "kick_velocity_vector"
   ]
  },
  {
   "cell_type": "code",
   "execution_count": 32,
   "metadata": {},
   "outputs": [
    {
     "data": {
      "image/png": "[encoded data removed]",
      "text/latex": [
       "$$\\frac{G M_{1}^{2} M_{2}}{2 a \\left(M_{1} + M_{2}\\right)} - \\frac{G M_{1}}{a} M_{2} \\chi + \\frac{M_{1} \\chi}{2} \\left(v_{n}^{2} \\sin^{2}{\\left (\\phi \\right )} \\sin^{2}{\\left (\\theta \\right )} + v_{n}^{2} \\cos^{2}{\\left (\\theta \\right )} + \\left(\\frac{\\sqrt{G} M_{2}}{\\sqrt{a} \\sqrt{M_{1} + M_{2}}} + v_{n} \\sin{\\left (\\theta \\right )} \\cos{\\left (\\phi \\right )}\\right)^{2}\\right)$$"
      ],
      "text/plain": [
       "                                 ⎛                                            \n",
       "                                 ⎜  2    2       2        2    2      ⎛    √G⋅\n",
       "                            M₁⋅χ⋅⎜vₙ ⋅sin (φ)⋅sin (θ) + vₙ ⋅cos (θ) + ⎜───────\n",
       "       2                         ⎜                                    ⎜     __\n",
       "   G⋅M₁ ⋅M₂     G⋅M₁⋅M₂⋅χ        ⎝                                    ⎝√a⋅╲╱ M\n",
       "───────────── - ───────── + ──────────────────────────────────────────────────\n",
       "2⋅a⋅(M₁ + M₂)       a                                              2          \n",
       "\n",
       "                           2⎞\n",
       "M₂                        ⎞ ⎟\n",
       "─────── + vₙ⋅sin(θ)⋅cos(φ)⎟ ⎟\n",
       "_______                   ⎟ ⎟\n",
       "₁ + M₂                    ⎠ ⎠\n",
       "─────────────────────────────\n",
       "                             "
      ]
     },
     "execution_count": 32,
     "metadata": {},
     "output_type": "execute_result"
    }
   ],
   "source": [
    "after_velocity_vector = before_velocity_vector+kick_velocity_vector\n",
    "chi = sympy.Symbol('chi', positive=True)\n",
    "temp = -G*M_1*M_2*chi/a + M_2*(Omega*a*M_1/(M_1+M_2))**2/2 + after_velocity_vector.dot(after_velocity_vector)*chi*M_1/2\n",
    "temp = temp.subs(Omega, sympy.sqrt(G*(M_1+M_2)/a**3))\n",
    "after_energy = temp\n",
    "after_energy"
   ]
  },
  {
   "cell_type": "code",
   "execution_count": 29,
   "metadata": {},
   "outputs": [
    {
     "data": {
      "image/png": "[encoded data removed]",
      "text/latex": [
       "$$v_{n}^{2} \\sin^{2}{\\left (\\phi \\right )} \\sin^{2}{\\left (\\theta \\right )} + v_{n}^{2} \\cos^{2}{\\left (\\theta \\right )} + \\left(\\frac{\\sqrt{G} M_{2}}{\\sqrt{a} \\sqrt{M_{1} + M_{2}}} + v_{n} \\sin{\\left (\\theta \\right )} \\cos{\\left (\\phi \\right )}\\right)^{2}$$"
      ],
      "text/plain": [
       "                                                                       2\n",
       "  2    2       2        2    2      ⎛    √G⋅M₂                        ⎞ \n",
       "vₙ ⋅sin (φ)⋅sin (θ) + vₙ ⋅cos (θ) + ⎜────────────── + vₙ⋅sin(θ)⋅cos(φ)⎟ \n",
       "                                    ⎜     _________                   ⎟ \n",
       "                                    ⎝√a⋅╲╱ M₁ + M₂                    ⎠ "
      ]
     },
     "execution_count": 29,
     "metadata": {},
     "output_type": "execute_result"
    }
   ],
   "source": [
    "after_velocity_vector.dot(after_velocity_vector)"
   ]
  },
  {
   "cell_type": "code",
   "execution_count": 39,
   "metadata": {},
   "outputs": [
    {
     "data": {
      "image/png": "[encoded data removed]",
      "text/latex": [
       "$$\\frac{M_{1} M_{2} a \\chi v_{n}}{M_{1} + M_{2}} \\cos{\\left (\\theta \\right )}$$"
      ],
      "text/plain": [
       "M₁⋅M₂⋅a⋅χ⋅vₙ⋅cos(θ)\n",
       "───────────────────\n",
       "      M₁ + M₂      "
      ]
     },
     "execution_count": 39,
     "metadata": {},
     "output_type": "execute_result"
    }
   ],
   "source": [
    "after_L_x = chi*M_1*after_velocity_vector[2]*a*M_2/(M_1+M_2)\n",
    "after_L_x"
   ]
  },
  {
   "cell_type": "code",
   "execution_count": 42,
   "metadata": {},
   "outputs": [
    {
     "data": {
      "image/png": "[encoded data removed]",
      "text/latex": [
       "$$\\frac{\\sqrt{G} M_{1}^{2} M_{2} \\sqrt{a}}{\\left(M_{1} + M_{2}\\right)^{\\frac{3}{2}}} + \\frac{M_{1} M_{2} a \\chi}{M_{1} + M_{2}} \\left(\\frac{\\sqrt{G} M_{2}}{\\sqrt{a} \\sqrt{M_{1} + M_{2}}} + v_{n} \\sin{\\left (\\theta \\right )} \\cos{\\left (\\phi \\right )}\\right)$$"
      ],
      "text/plain": [
       "                         ⎛    √G⋅M₂                        ⎞\n",
       "               M₁⋅M₂⋅a⋅χ⋅⎜────────────── + vₙ⋅sin(θ)⋅cos(φ)⎟\n",
       "     2                   ⎜     _________                   ⎟\n",
       "√G⋅M₁ ⋅M₂⋅√a             ⎝√a⋅╲╱ M₁ + M₂                    ⎠\n",
       "──────────── + ─────────────────────────────────────────────\n",
       "         3/2                      M₁ + M₂                   \n",
       "(M₁ + M₂)                                                   "
      ]
     },
     "execution_count": 42,
     "metadata": {},
     "output_type": "execute_result"
    }
   ],
   "source": [
    "temp = chi*M_1*after_velocity_vector[0]*a*M_2/(M_1+M_2) + M_2*Omega*(a*M_1/(M_1+M_2))**2\n",
    "temp = temp.subs(Omega, sympy.sqrt(G*(M_1+M_2)/a**3))\n",
    "after_L_z = temp\n",
    "after_L_z"
   ]
  },
  {
   "cell_type": "code",
   "execution_count": 43,
   "metadata": {},
   "outputs": [
    {
     "data": {
      "image/png": "[encoded data removed]",
      "text/latex": [
       "$$\\sqrt{\\frac{M_{1}^{2} M_{2}^{2} a^{2} \\chi^{2} v_{n}^{2}}{\\left(M_{1} + M_{2}\\right)^{2}} \\cos^{2}{\\left (\\theta \\right )} + \\left(\\frac{\\sqrt{G} M_{1}^{2} M_{2} \\sqrt{a}}{\\left(M_{1} + M_{2}\\right)^{\\frac{3}{2}}} + \\frac{M_{1} M_{2} a \\chi}{M_{1} + M_{2}} \\left(\\frac{\\sqrt{G} M_{2}}{\\sqrt{a} \\sqrt{M_{1} + M_{2}}} + v_{n} \\sin{\\left (\\theta \\right )} \\cos{\\left (\\phi \\right )}\\right)\\right)^{2}}$$"
      ],
      "text/plain": [
       "         _____________________________________________________________________\n",
       "        ╱                                                                     \n",
       "       ╱                              ⎛                         ⎛    √G⋅M₂    \n",
       "      ╱                               ⎜               M₁⋅M₂⋅a⋅χ⋅⎜─────────────\n",
       "     ╱      2   2  2  2   2    2      ⎜     2                   ⎜     ________\n",
       "    ╱     M₁ ⋅M₂ ⋅a ⋅χ ⋅vₙ ⋅cos (θ)   ⎜√G⋅M₁ ⋅M₂⋅√a             ⎝√a⋅╲╱ M₁ + M₂\n",
       "   ╱      ───────────────────────── + ⎜──────────── + ────────────────────────\n",
       "  ╱                        2          ⎜         3/2                      M₁ + \n",
       "╲╱                (M₁ + M₂)           ⎝(M₁ + M₂)                              \n",
       "\n",
       "________________________\n",
       "                      2 \n",
       "                    ⎞⎞  \n",
       "─ + vₙ⋅sin(θ)⋅cos(φ)⎟⎟  \n",
       "_                   ⎟⎟  \n",
       "                    ⎠⎟  \n",
       "─────────────────────⎟  \n",
       "M₂                   ⎟  \n",
       "                     ⎠  "
      ]
     },
     "execution_count": 43,
     "metadata": {},
     "output_type": "execute_result"
    }
   ],
   "source": [
    "after_angular_momentum = sympy.sqrt(after_L_x**2 + after_L_z**2)\n",
    "after_angular_momentum"
   ]
  },
  {
   "cell_type": "markdown",
   "metadata": {},
   "source": [
    "# Keplerian orbit parameters"
   ]
  },
  {
   "cell_type": "markdown",
   "metadata": {},
   "source": [
    "We begin with a short derivation of the Keplerian orbit parameters. The vector equations of motion for the two masses are"
   ]
  },
  {
   "cell_type": "markdown",
   "metadata": {},
   "source": [
    "$\\ddot{\\mathbf{R}}_1 = \\frac{G M_2}{|\\mathbf{R}_2 - \\mathbf{R}_1|^3} \\left(\\mathbf{R}_2 - \\mathbf{R}_1 \\right)$"
   ]
  },
  {
   "cell_type": "markdown",
   "metadata": {},
   "source": [
    "$\\ddot{\\mathbf{R}}_2 = -\\frac{G M_1}{|\\mathbf{R}_2 - \\mathbf{R}_1|^3} \\left(\\mathbf{R}_2 - \\mathbf{R}_1 \\right)$"
   ]
  },
  {
   "cell_type": "markdown",
   "metadata": {},
   "source": [
    "We don't care about centre of mass motion, so $M_1 \\mathbf{R}_1 + M_2 \\mathbf{R}_2 = 0$. We want to express the equation of motion in terms of the difference between the two position vectors $\\mathbf{r} = \\mathbf{R}_2 - \\mathbf{R}_1$. Expressing the two positions in terms of the position difference"
   ]
  },
  {
   "cell_type": "markdown",
   "metadata": {},
   "source": [
    "\n",
    "$\\mathbf{R}_1 = -\\frac{M_2}{M_1 + M_2} \\mathbf{r}$"
   ]
  },
  {
   "cell_type": "markdown",
   "metadata": {},
   "source": [
    "$\\mathbf{R}_2 = \\frac{M_1}{M_1+M_2} \\mathbf{r}$"
   ]
  },
  {
   "cell_type": "markdown",
   "metadata": {},
   "source": [
    "Substituting into either equation of motion yields"
   ]
  },
  {
   "cell_type": "markdown",
   "metadata": {},
   "source": [
    "$\\ddot{\\mathbf{r}} = - \\frac{G \\left(M_1 + M_2 \\right)}{r^3} \\mathbf{r}$"
   ]
  },
  {
   "cell_type": "markdown",
   "metadata": {},
   "source": [
    "This substitution reduces the problem to the degenerate Kepler problem, where a test particle goes around a much more massive body with mass $M_1 + M_2$. The solution is"
   ]
  },
  {
   "cell_type": "markdown",
   "metadata": {},
   "source": [
    "$r = \\frac{r_l}{1 + e \\cos \\theta}$"
   ]
  },
  {
   "cell_type": "markdown",
   "metadata": {},
   "source": [
    "Conservation of angular momentum"
   ]
  },
  {
   "cell_type": "markdown",
   "metadata": {},
   "source": [
    "$L = M_1 R_1^2 \\dot{\\theta} + M_2 R_2^2 \\dot{\\theta}$"
   ]
  },
  {
   "cell_type": "code",
   "execution_count": 56,
   "metadata": {},
   "outputs": [
    {
     "data": {
      "image/png": "[encoded data removed]",
      "text/latex": [
       "$$\\frac{M_{1} M_{2} r^{2} \\frac{d}{d t} \\theta}{M_{1} + M_{2}} = L$$"
      ],
      "text/plain": [
       "       2 d        \n",
       "M₁⋅M₂⋅r ⋅──(θ)    \n",
       "         dt       \n",
       "────────────── = L\n",
       "   M₁ + M₂        "
      ]
     },
     "execution_count": 56,
     "metadata": {},
     "output_type": "execute_result"
    }
   ],
   "source": [
    "R_1 = sympy.Symbol('R_1', positive=True)\n",
    "R_2 = sympy.Symbol('R_2', positive=True)\n",
    "r = sympy.Symbol('r', positive=True)\n",
    "L = sympy.Symbol('L', positive=True)\n",
    "t = sympy.Symbol('t', positive=True)\n",
    "temp = M_1*R_1**2*sympy.Derivative(theta,t)+M_2*R_2**2*sympy.Derivative(theta,t)\n",
    "temp = temp.subs(R_1, -r*M_2/(M_1+M_2))\n",
    "temp = temp.subs(R_2, r*M_1/(M_1+M_2))\n",
    "temp = temp.simplify()\n",
    "keplerian_angular_momentum = sympy.Eq(temp,L)\n",
    "keplerian_angular_momentum"
   ]
  },
  {
   "cell_type": "markdown",
   "metadata": {},
   "source": [
    "Energy conservation"
   ]
  },
  {
   "cell_type": "markdown",
   "metadata": {},
   "source": [
    "$U = - \\frac{G M_1 M_2}{r} + \\frac{1}{2} M_1 \\left(\\dot{R}_1^2 +  R_1^2 \\dot{\\theta}^2 \\right) + \\frac{1}{2} M_2 \\left( \\dot{R}_2^2 + R_2^2 \\dot{\\theta}^2 \\right)$"
   ]
  },
  {
   "cell_type": "code",
   "execution_count": 81,
   "metadata": {},
   "outputs": [
    {
     "data": {
      "image/png": "[encoded data removed]",
      "text/latex": [
       "$$\\left \\{ e : \\frac{1}{G M_{1}^{\\frac{3}{2}} M_{2}^{\\frac{3}{2}}} \\sqrt{G^{2} M_{1}^{3} M_{2}^{3} + 2 L^{2} M_{1} U + 2 L^{2} M_{2} U}, \\quad r_{l} : \\frac{L^{2} \\left(M_{1} + M_{2}\\right)}{G M_{1}^{2} M_{2}^{2}}\\right \\}$$"
      ],
      "text/plain": [
       "⎧      ____________________________________                  ⎫\n",
       "⎪     ╱  2   3   3      2           2             2          ⎪\n",
       "⎪   ╲╱  G ⋅M₁ ⋅M₂  + 2⋅L ⋅M₁⋅U + 2⋅L ⋅M₂⋅U       L ⋅(M₁ + M₂)⎪\n",
       "⎨e: ───────────────────────────────────────, rₗ: ────────────⎬\n",
       "⎪                    3/2   3/2                        2   2  ⎪\n",
       "⎪                G⋅M₁   ⋅M₂                       G⋅M₁ ⋅M₂   ⎪\n",
       "⎩                                                            ⎭"
      ]
     },
     "execution_count": 81,
     "metadata": {},
     "output_type": "execute_result"
    }
   ],
   "source": [
    "e = sympy.Symbol('e', positive=True)\n",
    "r_l = sympy.Symbol('r_l', positive=True)\n",
    "U = sympy.Symbol('U')\n",
    "temp = (-G*M_1*M_2/r+\n",
    "        M_1*(sympy.Derivative(R_1,t)**2+R_1**2*sympy.Derivative(theta,t)**2)/2+\n",
    "        M_2*(sympy.Derivative(R_2,t)**2+R_2**2*sympy.Derivative(theta,t)**2)/2)\n",
    "temp = temp.subs(sympy.Derivative(R_1, t), sympy.Derivative(R_1, theta)*sympy.Derivative(theta, t))\n",
    "temp = temp.subs(sympy.Derivative(R_2, t), sympy.Derivative(R_2, theta)*sympy.Derivative(theta, t))\n",
    "temp = temp.subs(sympy.solve(keplerian_angular_momentum, sympy.Derivative(theta, t), dict=True)[0])\n",
    "temp = temp.subs(R_1, -r*M_2/(M_1+M_2))\n",
    "temp = temp.subs(R_2, r*M_1/(M_1+M_2))\n",
    "temp = temp.subs(r, r_l/(1+e*sympy.cos(theta)))\n",
    "temp = temp.doit()\n",
    "temp = sympy.Eq(U, temp.simplify())\n",
    "keplerian_orbit_parameters = sympy.solve([temp.subs(theta,0), temp.subs(theta, sympy.pi/2)], [e, r_l], dict=True)[1]\n",
    "keplerian_orbit_parameters"
   ]
  },
  {
   "cell_type": "markdown",
   "metadata": {},
   "source": [
    "The semi major axis is given by $a = \\frac{r_l}{1-e^2}$"
   ]
  },
  {
   "cell_type": "code",
   "execution_count": null,
   "metadata": {
    "collapsed": true
   },
   "outputs": [],
   "source": []
  }
 ],
 "metadata": {
  "kernelspec": {
   "display_name": "Python 3",
   "language": "python",
   "name": "python3"
  },
  "language_info": {
   "codemirror_mode": {
    "name": "ipython",
    "version": 3
   },
   "file_extension": ".py",
   "mimetype": "text/x-python",
   "name": "python",
   "nbconvert_exporter": "python",
   "pygments_lexer": "ipython3",
   "version": "3.6.1"
  }
 },
 "nbformat": 4,
 "nbformat_minor": 2
}
