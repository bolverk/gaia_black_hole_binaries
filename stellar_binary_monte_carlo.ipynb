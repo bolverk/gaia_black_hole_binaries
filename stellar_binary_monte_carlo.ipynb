{
 "cells": [
  {
   "cell_type": "markdown",
   "metadata": {},
   "source": [
    "[Theory paper](https://arxiv.org/pdf/1710.09839.pdf)\n",
    "[GAIA paper](https://www.aanda.org/articles/aa/full_html/2016/11/aa29272-16/aa29272-16.html)"
   ]
  },
  {
   "cell_type": "markdown",
   "metadata": {},
   "source": [
    "Note about units: The default unit for length is parsec, for mass is a solar mass, and for time is years."
   ]
  },
  {
   "cell_type": "code",
   "execution_count": 1,
   "metadata": {},
   "outputs": [],
   "source": [
    "import sympy\n",
    "sympy.init_printing()\n",
    "import numpy\n",
    "import pylab\n",
    "import time"
   ]
  },
  {
   "cell_type": "markdown",
   "metadata": {},
   "source": [
    "Progress bar"
   ]
  },
  {
   "cell_type": "code",
   "execution_count": 2,
   "metadata": {},
   "outputs": [],
   "source": [
    "def log_progress(sequence, every=None, size=None, name='Items'):\n",
    "    from ipywidgets import IntProgress, HTML, VBox\n",
    "    from IPython.display import display\n",
    "\n",
    "    is_iterator = False\n",
    "    if size is None:\n",
    "        try:\n",
    "            size = len(sequence)\n",
    "        except TypeError:\n",
    "            is_iterator = True\n",
    "    if size is not None:\n",
    "        if every is None:\n",
    "            if size <= 200:\n",
    "                every = 1\n",
    "            else:\n",
    "                every = int(size / 200)     # every 0.5%\n",
    "    else:\n",
    "        assert every is not None, 'sequence is iterator, set every'\n",
    "\n",
    "    if is_iterator:\n",
    "        progress = IntProgress(min=0, max=1, value=1)\n",
    "        progress.bar_style = 'info'\n",
    "    else:\n",
    "        progress = IntProgress(min=0, max=size, value=0)\n",
    "    label = HTML()\n",
    "    box = VBox(children=[label, progress])\n",
    "    display(box)\n",
    "\n",
    "    index = 0\n",
    "    try:\n",
    "        for index, record in enumerate(sequence, 1):\n",
    "            if index == 1 or index % every == 0:\n",
    "                if is_iterator:\n",
    "                    label.value = '{name}: {index} / ?'.format(\n",
    "                        name=name,\n",
    "                        index=index\n",
    "                    )\n",
    "                else:\n",
    "                    progress.value = index\n",
    "                    label.value = u'{name}: {index} / {size}'.format(\n",
    "                        name=name,\n",
    "                        index=index,\n",
    "                        size=size\n",
    "                    )\n",
    "            yield record\n",
    "    except:\n",
    "        progress.bar_style = 'danger'\n",
    "        raise\n",
    "    else:\n",
    "        progress.bar_style = 'success'\n",
    "        progress.value = index\n",
    "        label.value = \"{name}: {index}\".format(\n",
    "            name=name,\n",
    "            index=str(index or '?')\n",
    "        )"
   ]
  },
  {
   "cell_type": "markdown",
   "metadata": {},
   "source": [
    "[Salpeter initial mass function](https://en.wikipedia.org/wiki/Initial_mass_function)"
   ]
  },
  {
   "cell_type": "code",
   "execution_count": 3,
   "metadata": {},
   "outputs": [
    {
     "data": {
      "image/png": "[encoded data removed]",
      "text/latex": [
       "$$C_{salpeter} M_{*}^{- a_{salpeter}}$$"
      ],
      "text/plain": [
       "                -a_{salpeter}\n",
       "C_{salpeter}⋅M_*             "
      ]
     },
     "execution_count": 3,
     "metadata": {},
     "output_type": "execute_result"
    }
   ],
   "source": [
    "M_star = sympy.Symbol('M_*', positive=True)\n",
    "M_star_min = sympy.Symbol('M_{*min}', positive=True)\n",
    "M_star_max = sympy.Symbol('M_{*max}', positive=True)\n",
    "a_salpeter = sympy.Symbol('a_{salpeter}', positive=True)\n",
    "C_salpeter = sympy.Symbol('C_{salpeter}', positive=True)\n",
    "salpeter_imf = C_salpeter*M_star**(-a_salpeter)\n",
    "salpeter_imf"
   ]
  },
  {
   "cell_type": "code",
   "execution_count": 4,
   "metadata": {},
   "outputs": [
    {
     "data": {
      "image/png": "[encoded data removed]",
      "text/latex": [
       "$$\\frac{- a_{salpeter} + 1}{M_{*max}^{- a_{salpeter} + 1} - M_{*min}^{- a_{salpeter} + 1}}$$"
      ],
      "text/plain": [
       "                  -a_{salpeter} + 1                  \n",
       "─────────────────────────────────────────────────────\n",
       "        -a_{salpeter} + 1           -a_{salpeter} + 1\n",
       "M_{*max}                  - M_{*min}                 "
      ]
     },
     "execution_count": 4,
     "metadata": {},
     "output_type": "execute_result"
    }
   ],
   "source": [
    "temp = salpeter_imf\n",
    "temp = sympy.integrate(temp, M_star, conds='none')\n",
    "C_salpeter_expr = sympy.solve(temp.subs(M_star, M_star_max) - temp.subs(M_star, M_star_min)-1, C_salpeter)[0]\n",
    "C_salpeter_expr"
   ]
  },
  {
   "cell_type": "code",
   "execution_count": 5,
   "metadata": {},
   "outputs": [
    {
     "data": {
      "image/png": "[encoded data removed]",
      "text/latex": [
       "$$\\frac{M_{*}^{- a_{salpeter} + 1} - M_{*min}^{- a_{salpeter} + 1}}{M_{*max}^{- a_{salpeter} + 1} - M_{*min}^{- a_{salpeter} + 1}}$$"
      ],
      "text/plain": [
       "      -a_{salpeter} + 1           -a_{salpeter} + 1  \n",
       "   M_*                  - M_{*min}                   \n",
       "─────────────────────────────────────────────────────\n",
       "        -a_{salpeter} + 1           -a_{salpeter} + 1\n",
       "M_{*max}                  - M_{*min}                 "
      ]
     },
     "execution_count": 5,
     "metadata": {},
     "output_type": "execute_result"
    }
   ],
   "source": [
    "temp = salpeter_imf.subs(C_salpeter, C_salpeter_expr)\n",
    "temp = sympy.integrate(temp, M_star, conds='none')\n",
    "temp = temp - temp.subs(M_star, M_star_min)\n",
    "cumulative_salpeter_imf = temp.simplify()\n",
    "cumulative_salpeter_imf"
   ]
  },
  {
   "cell_type": "markdown",
   "metadata": {},
   "source": [
    "What is the probability that a star is born with a mass in excess of 20 $M_{\\odot}$?"
   ]
  },
  {
   "cell_type": "code",
   "execution_count": 6,
   "metadata": {},
   "outputs": [
    {
     "data": {
      "image/png": "[encoded data removed]",
      "text/latex": [
       "$$0.000513226989810489$$"
      ],
      "text/plain": [
       "0.000513226989810489"
      ]
     },
     "execution_count": 6,
     "metadata": {},
     "output_type": "execute_result"
    }
   ],
   "source": [
    "1-cumulative_salpeter_imf.subs({\n",
    "    M_star: 20,\n",
    "    M_star_min:0.08,\n",
    "    M_star_max:100,\n",
    "    a_salpeter:2.35\n",
    "})"
   ]
  },
  {
   "cell_type": "markdown",
   "metadata": {},
   "source": [
    "Distribution function for masses above 20 $M_{\\odot}$"
   ]
  },
  {
   "cell_type": "code",
   "execution_count": 7,
   "metadata": {},
   "outputs": [
    {
     "data": {
      "image/png": "[encoded data removed]",
      "text/latex": [
       "$$\\frac{20}{\\left(- 0.886134936114969 f + 1\\right)^{0.740740740740741}}$$"
      ],
      "text/plain": [
       "                             -0.740740740740741\n",
       "20⋅(-0.886134936114969⋅f + 1)                  "
      ]
     },
     "execution_count": 7,
     "metadata": {},
     "output_type": "execute_result"
    }
   ],
   "source": [
    "xi = sympy.Symbol('xi', positive=True)\n",
    "f = sympy.Symbol('f', positive=True)\n",
    "temp = sympy.Eq(f, cumulative_salpeter_imf)\n",
    "temp = sympy.solve(temp, M_star)[0].simplify()\n",
    "temp = sympy.expand_power_base(temp.subs(M_star_max, xi*M_star_min), force=True).simplify()\n",
    "temp = sympy.expand_power_base(temp, force=True).simplify()\n",
    "temp = temp.subs(xi, M_star_max/M_star_min)\n",
    "temp.subs({a_salpeter: 2.35,\n",
    "           M_star_min: 20,\n",
    "           M_star_max: 100\n",
    "          })"
   ]
  },
  {
   "cell_type": "markdown",
   "metadata": {},
   "source": [
    "This is a simplified version of the IMFs used in the theory paper (equation 1 and 2 in theory paper)"
   ]
  },
  {
   "cell_type": "code",
   "execution_count": 8,
   "metadata": {},
   "outputs": [],
   "source": [
    "def randomise_salpeter_bh_progenitor_mass(l):\n",
    "    \n",
    "    f = numpy.random.rand(l)\n",
    "    \n",
    "    return 20.0/(1.0-0.886*f)**0.741"
   ]
  },
  {
   "cell_type": "markdown",
   "metadata": {},
   "source": [
    "Mass ratio (equation 3)"
   ]
  },
  {
   "cell_type": "code",
   "execution_count": 9,
   "metadata": {},
   "outputs": [],
   "source": [
    "def randomise_mass_ratio(M1_list):\n",
    "    \n",
    "    q_min = 0.08/M1_list\n",
    "    f_list = numpy.random.rand(len(M1_list))\n",
    "    return q_min + f_list*(1-q_min)"
   ]
  },
  {
   "cell_type": "markdown",
   "metadata": {},
   "source": [
    "Semi major axis distribution (equation 6)"
   ]
  },
  {
   "cell_type": "code",
   "execution_count": 10,
   "metadata": {},
   "outputs": [],
   "source": [
    "def randomise_semi_major_axis(M1_list):\n",
    "    \n",
    "    f_list = numpy.random.rand(len(M1_list))\n",
    "    log10A_list = 8.0*(f_list - 1)\n",
    "    return 10**log10A_list"
   ]
  },
  {
   "cell_type": "markdown",
   "metadata": {},
   "source": [
    "Position in the galaxy (equation 11)"
   ]
  },
  {
   "cell_type": "code",
   "execution_count": 11,
   "metadata": {},
   "outputs": [],
   "source": [
    "def randomise_height_above_galactic_disc(M1_list):\n",
    "    \n",
    "    f_list = numpy.random.rand(len(M1_list))\n",
    "    return -250*numpy.log(1-f_list)"
   ]
  },
  {
   "cell_type": "code",
   "execution_count": 12,
   "metadata": {},
   "outputs": [],
   "source": [
    "def randomise_distance_from_galactic_centre(M1_list):\n",
    "    \n",
    "    f_list = numpy.random.rand(len(M1_list))\n",
    "    return -3500*numpy.log(1-f_list)"
   ]
  },
  {
   "cell_type": "markdown",
   "metadata": {},
   "source": [
    "Angle around the galactic rotation axis, relative to the line connecting the galactic centre to the sun"
   ]
  },
  {
   "cell_type": "code",
   "execution_count": 13,
   "metadata": {},
   "outputs": [],
   "source": [
    "def randomise_angle_gc_sol(M1_list):\n",
    "    \n",
    "    return numpy.pi*numpy.random.rand(len(M1_list))"
   ]
  },
  {
   "cell_type": "markdown",
   "metadata": {},
   "source": [
    "Relation between mass and radius, using the empiric relation from [Demircan and Kahraman (1991)](http://adsabs.harvard.edu/abs/1991Ap%26SS.181..313D), page 319"
   ]
  },
  {
   "cell_type": "code",
   "execution_count": 14,
   "metadata": {},
   "outputs": [],
   "source": [
    "def mass2radius_demircan_kahraman(m):\n",
    "    \n",
    "    return 1.6*m**0.83*2.3e-8"
   ]
  },
  {
   "cell_type": "markdown",
   "metadata": {},
   "source": [
    "Calculation of the ratio between the Roche lobe radius and the radius of the donor, according to the mass ratio $q$, using (equation 7)"
   ]
  },
  {
   "cell_type": "code",
   "execution_count": 15,
   "metadata": {},
   "outputs": [],
   "source": [
    "def roche_lobe_radius_ratio(q):\n",
    "    \n",
    "    return (0.6*q**-0.67+numpy.log(1+q**-0.33))/(0.49*q**-0.67)"
   ]
  },
  {
   "cell_type": "markdown",
   "metadata": {},
   "source": [
    "Terminal semi major axis for binaries with comparable masses (equation 20)"
   ]
  },
  {
   "cell_type": "code",
   "execution_count": 16,
   "metadata": {},
   "outputs": [],
   "source": [
    "def calc_current_semi_major_axis_massive(q_list):\n",
    "    \n",
    "    return 11.18*(0.6+q_list)/(1+q_list)/(1+0.4/q_list)**3"
   ]
  },
  {
   "cell_type": "markdown",
   "metadata": {},
   "source": [
    "Terminal semi major axis for binaries with large mass ratio (equation 23)"
   ]
  },
  {
   "cell_type": "code",
   "execution_count": 17,
   "metadata": {},
   "outputs": [],
   "source": [
    "def calc_current_semi_major_axis_wimpy(q_list, rl_list):\n",
    "    \n",
    "    k = 0.2\n",
    "    alpha = 1.0\n",
    "    return 1.0/(2*(1-k)/(alpha*k*q_list*rl_list)+1.0/k)"
   ]
  },
  {
   "cell_type": "markdown",
   "metadata": {},
   "source": [
    "Relation between progenitor and black hole mass (equation 19)"
   ]
  },
  {
   "cell_type": "code",
   "execution_count": 18,
   "metadata": {},
   "outputs": [],
   "source": [
    "def calc_terminal_black_hole_mass(M1_list):\n",
    "    \n",
    "    return 8.0*numpy.log(M1_list - 19)/numpy.log(81.0)+2"
   ]
  },
  {
   "cell_type": "markdown",
   "metadata": {},
   "source": [
    "Stellar classification"
   ]
  },
  {
   "cell_type": "markdown",
   "metadata": {},
   "source": [
    "Based on [this table](http://www.pas.rochester.edu/~emamajek/EEM_dwarf_UBVIJHK_colors_Teff.txt)"
   ]
  },
  {
   "cell_type": "markdown",
   "metadata": {},
   "source": [
    "Parse table"
   ]
  },
  {
   "cell_type": "code",
   "execution_count": 19,
   "metadata": {},
   "outputs": [],
   "source": [
    "with open('EEM_dwarf_UBVIJHK_colors_Teff.txt') as f:\n",
    "    data = f.readlines()\n",
    "table_lines = []\n",
    "important_flag = False\n",
    "\n",
    "for line in data:\n",
    "    if '#SpT' in line:\n",
    "        important_flag = not important_flag\n",
    "        continue\n",
    "    if important_flag:\n",
    "        table_lines.append(line)\n",
    "\n",
    "table_mass = []\n",
    "table_vmag = []\n",
    "for line in table_lines:\n",
    "    mass_candidate_text = line.split()[19]\n",
    "    mv_candidate_text = line.split()[4]\n",
    "    if '...' in mass_candidate_text or '...' in mv_candidate_text:\n",
    "        continue\n",
    "    table_mass.append(float(mass_candidate_text))\n",
    "    table_vmag.append(float(mv_candidate_text))\n",
    "table_mass = numpy.array(table_mass)\n",
    "table_vmag = numpy.array(table_vmag)"
   ]
  },
  {
   "cell_type": "code",
   "execution_count": 20,
   "metadata": {},
   "outputs": [
    {
     "data": {
      "image/png": "[encoded data removed]",
      "text/plain": [
       "<matplotlib.figure.Figure at 0x7fd042602050>"
      ]
     },
     "metadata": {},
     "output_type": "display_data"
    }
   ],
   "source": [
    "def stellar_mass_to_vmag(mass):\n",
    "    return numpy.interp(-mass, -table_mass, table_vmag)\n",
    "%matplotlib inline\n",
    "pylab.semilogx(table_mass, table_vmag,'.')\n",
    "pylab.semilogx(table_mass, stellar_mass_to_vmag(table_mass));"
   ]
  },
  {
   "cell_type": "code",
   "execution_count": 21,
   "metadata": {},
   "outputs": [],
   "source": [
    "def absolute_to_apparent_magnitude(absolute, d_pc, extinction=False):\n",
    "    if extinction:\n",
    "        return absolute+5*(numpy.log10(d_pc)-1)+d_pc/1e3\n",
    "    return absolute+5*(numpy.log10(d_pc)-1)"
   ]
  },
  {
   "cell_type": "markdown",
   "metadata": {},
   "source": [
    "Gaia Sensitivity (section 8 in Gaia paper)"
   ]
  },
  {
   "cell_type": "code",
   "execution_count": 22,
   "metadata": {},
   "outputs": [],
   "source": [
    "def calc_gaia_z12p09(gmag):\n",
    "    \n",
    "    capped_gmag = numpy.clip(gmag, 12, 200)\n",
    "    return numpy.clip(10**(0.4*(capped_gmag-15)),10**(0.4*(12.09-15)),1e30)\n",
    "\n",
    "def calc_sigma_pomega(gmag):\n",
    "    \n",
    "    z = calc_gaia_z12p09(gmag)\n",
    "    return numpy.sqrt(-1.63+680.8*z+32.7*z**2)\n",
    "\n",
    "def calc_sigma_G(gmag):\n",
    "    \n",
    "    z = calc_gaia_z12p09(gmag)\n",
    "    return 1.2e-3*numpy.sqrt(0.05*z**2+1.9*z+0.0002)"
   ]
  },
  {
   "cell_type": "markdown",
   "metadata": {},
   "source": [
    "Synthetic stellar population"
   ]
  },
  {
   "cell_type": "code",
   "execution_count": 23,
   "metadata": {},
   "outputs": [],
   "source": [
    "ssp = {'primary mass':randomise_salpeter_bh_progenitor_mass(int(1e6))}\n",
    "ssp['initial mass ratio'] = randomise_mass_ratio(ssp['primary mass'])\n",
    "ssp['companion mass'] = ssp['primary mass']*ssp['initial mass ratio']\n",
    "ssp['initial semi major axis'] = randomise_semi_major_axis(ssp['primary mass'])\n",
    "ssp['z'] = randomise_height_above_galactic_disc(ssp['primary mass'])\n",
    "ssp['r'] = randomise_distance_from_galactic_centre(ssp['primary mass'])\n",
    "ssp['angle'] = randomise_angle_gc_sol(ssp['primary mass'])\n",
    "ssp['black hole mass'] = calc_terminal_black_hole_mass(ssp['primary mass'])\n",
    "ssp['terminal mass ratio'] = ssp['black hole mass']/ssp['companion mass']\n",
    "ssp['age'] = numpy.random.rand(len(ssp['primary mass'])) # Age / galactic age\n",
    "ssp['lifetime'] = ssp['companion mass']**-2.5 - ssp['primary mass']**-2.5 # Normalised by the age of the galaxy\n",
    "ssp['companion mass'] = ssp['primary mass']*ssp['initial mass ratio']\n",
    "ssp['companion radius'] = mass2radius_demircan_kahraman(ssp['companion mass'])\n",
    "ssp['initial primary radius'] = mass2radius_demircan_kahraman(ssp['primary mass'])\n",
    "ssp['initial roche radius'] = roche_lobe_radius_ratio(ssp['initial mass ratio'])*ssp['initial primary radius']\n",
    "ssp['terminal roche radius'] = roche_lobe_radius_ratio(1.0/ssp['terminal mass ratio'])*ssp['companion radius']\n",
    "ssp['terminal semi major axis'] = numpy.where(ssp['initial mass ratio'] > 0.5,\n",
    "                                              calc_current_semi_major_axis_massive(ssp['initial mass ratio']),\n",
    "                                              calc_current_semi_major_axis_wimpy(ssp['initial mass ratio'],\n",
    "                                                                                ssp['initial roche radius']/\n",
    "                                                                                 ssp['initial semi major axis']))\n",
    "ssp['terminal period'] = 9.4e7*(ssp['terminal semi major axis']**1.5*\n",
    "                                (ssp['companion mass']+ssp['black hole mass'])**(-0.5))\n",
    "ssp['companion absolute magnitude'] = stellar_mass_to_vmag(ssp['primary mass']*ssp['initial mass ratio'])\n",
    "ssp['distance from earth'] = numpy.sqrt(ssp['z']**2+8000**2+ssp['r']**2-2*8000*ssp['r']*numpy.cos(ssp['angle']))\n",
    "ssp['companion apparent magnitude'] = absolute_to_apparent_magnitude(ssp['companion absolute magnitude'],\n",
    "                                                                     ssp['distance from earth'],\n",
    "                                                                    extinction=True)\n",
    "ssp['sigma pomega'] = calc_sigma_pomega(ssp['companion apparent magnitude'])\n",
    "ssp['parallax'] = 1e6/ssp['distance from earth'] # in uas\n",
    "ssp['sigma G'] = calc_sigma_G(ssp['companion apparent magnitude'])\n",
    "ssp['statistical weight'] = numpy.clip(ssp['lifetime'], 0, 1)\n",
    "ssp_no_kick = ssp"
   ]
  },
  {
   "cell_type": "markdown",
   "metadata": {},
   "source": [
    "Count how many will be visible by Gaia"
   ]
  },
  {
   "cell_type": "code",
   "execution_count": 24,
   "metadata": {},
   "outputs": [
    {
     "data": {
      "image/png": "[encoded data removed]",
      "text/latex": [
       "$$39.91941703683753$$"
      ],
      "text/plain": [
       "39.91941703683753"
      ]
     },
     "execution_count": 24,
     "metadata": {},
     "output_type": "execute_result"
    }
   ],
   "source": [
    "filter_list = [ssp['terminal semi major axis']>ssp['terminal roche radius'],\n",
    "               ssp['terminal period']<5,\n",
    "               ssp['terminal period']>0.137,\n",
    "               ssp['black hole mass']>3.0/(1.0-ssp['sigma pomega']/ssp['parallax']-ssp['sigma G']-ssp['sigma pomega']*ssp['distance from earth']/2e11/ssp['terminal semi major axis']),\n",
    "               ssp['companion apparent magnitude']<20,\n",
    "               ssp['terminal semi major axis']>10*(1+ssp['initial mass ratio']/0.2)*ssp['sigma pomega']*ssp['distance from earth']*5e-12\n",
    "              ]\n",
    "#filter_list = numpy.array(filter_list)\n",
    "mask = numpy.all(filter_list,axis=0)\n",
    "ssp['statistical weight'][mask].sum()"
   ]
  },
  {
   "cell_type": "markdown",
   "metadata": {},
   "source": [
    "Statistics of detected black holes - luminous companion binaries"
   ]
  },
  {
   "cell_type": "code",
   "execution_count": 25,
   "metadata": {},
   "outputs": [
    {
     "data": {
      "image/png": "[encoded data removed]",
      "text/plain": [
       "<matplotlib.figure.Figure at 0x7fd0427ce410>"
      ]
     },
     "metadata": {},
     "output_type": "display_data"
    }
   ],
   "source": [
    "%matplotlib inline\n",
    "import matplotlib\n",
    "font = {'size':22}\n",
    "matplotlib.rc('font',**font)\n",
    "\n",
    "pylab.hist(ssp['black hole mass'][mask],20, weights=ssp['statistical weight'][mask])\n",
    "pylab.xlabel('Black hole mass [$M_{\\odot}$]');\n",
    "pylab.ylabel('Number')\n",
    "pass"
   ]
  },
  {
   "cell_type": "code",
   "execution_count": 26,
   "metadata": {},
   "outputs": [
    {
     "data": {
      "image/png": "[encoded data removed]",
      "text/plain": [
       "<matplotlib.figure.Figure at 0x7fd0426ab2d0>"
      ]
     },
     "metadata": {},
     "output_type": "display_data"
    }
   ],
   "source": [
    "pylab.hist(ssp['distance from earth'][mask]/1000,20, weights=ssp['statistical weight'][mask])\n",
    "pylab.xlabel('Distance from earth [kpc]');\n",
    "pylab.ylabel('Number')\n",
    "pass"
   ]
  },
  {
   "cell_type": "code",
   "execution_count": 27,
   "metadata": {},
   "outputs": [
    {
     "data": {
      "image/png": "[encoded data removed]",
      "text/plain": [
       "<matplotlib.figure.Figure at 0x7fd042698f10>"
      ]
     },
     "metadata": {},
     "output_type": "display_data"
    }
   ],
   "source": [
    "pylab.hist(ssp['companion mass'][mask],20, weights=ssp['statistical weight'][mask])\n",
    "pylab.xscale('log')\n",
    "pylab.xlabel(r'Companion mass [$M_{\\odot}$]');\n",
    "pylab.ylabel('Number')\n",
    "pass"
   ]
  },
  {
   "cell_type": "code",
   "execution_count": 28,
   "metadata": {},
   "outputs": [
    {
     "data": {
      "image/png": "[encoded data removed]",
      "text/plain": [
       "<matplotlib.figure.Figure at 0x7fd04275c390>"
      ]
     },
     "metadata": {},
     "output_type": "display_data"
    }
   ],
   "source": [
    "pylab.hist(ssp['terminal semi major axis'][mask]/ssp['distance from earth'][mask]/4.8e-9,50,\n",
    "          weights=ssp['statistical weight'][mask])\n",
    "pylab.xscale('log')\n",
    "pylab.xlabel(r'Angular separation [mas]')\n",
    "pylab.ylabel('Number')\n",
    "pass"
   ]
  },
  {
   "cell_type": "code",
   "execution_count": 29,
   "metadata": {},
   "outputs": [
    {
     "data": {
      "image/png": "[encoded data removed]",
      "text/plain": [
       "<matplotlib.figure.Figure at 0x7fd042773110>"
      ]
     },
     "metadata": {},
     "output_type": "display_data"
    }
   ],
   "source": [
    "pylab.scatter(ssp['companion mass'][mask],\n",
    "              ssp['terminal semi major axis'][mask]/ssp['distance from earth'][mask]/4.8e-9\n",
    "             )\n",
    "pylab.xscale('log')\n",
    "pylab.yscale('log')\n",
    "pylab.xlabel('Companion mass[$M_{\\odot}$]')\n",
    "pylab.ylabel('Angular separation [mas]')\n",
    "pass"
   ]
  },
  {
   "cell_type": "markdown",
   "metadata": {
    "collapsed": true
   },
   "source": [
    "Count how many will be seen by [Hipparcos](https://arxiv.org/pdf/1202.2064.pdf)"
   ]
  },
  {
   "cell_type": "code",
   "execution_count": 30,
   "metadata": {},
   "outputs": [
    {
     "data": {
      "image/png": "[encoded data removed]",
      "text/latex": [
       "$$0.13586036678334684$$"
      ],
      "text/plain": [
       "0.13586036678334684"
      ]
     },
     "execution_count": 30,
     "metadata": {},
     "output_type": "execute_result"
    }
   ],
   "source": [
    "filter_list = [ssp['terminal semi major axis']>ssp['terminal roche radius'],\n",
    "               ssp['terminal period']<5,\n",
    "               ssp['terminal period']>0.137,\n",
    "               ssp['black hole mass']>\n",
    "               3.0/(1.0-100*ssp['sigma pomega']/ssp['parallax']-\n",
    "                    100*ssp['sigma pomega']*ssp['distance from earth']/2e11/ssp['terminal semi major axis']),\n",
    "               ssp['companion apparent magnitude']<12.4,\n",
    "               ssp['terminal semi major axis']>\n",
    "               10*(1+ssp['initial mass ratio']/0.2)*100*ssp['sigma pomega']*ssp['distance from earth']*5e-12\n",
    "              ]\n",
    "mask = numpy.all(filter_list, axis=0)\n",
    "ssp['statistical weight'][mask].sum()"
   ]
  },
  {
   "cell_type": "markdown",
   "metadata": {
    "collapsed": true
   },
   "source": [
    "# Natal Kicks"
   ]
  },
  {
   "cell_type": "markdown",
   "metadata": {},
   "source": [
    "## Same velocity as neutron stars"
   ]
  },
  {
   "cell_type": "code",
   "execution_count": 31,
   "metadata": {},
   "outputs": [],
   "source": [
    "def kick_semi_major_axis_ratio(vk_list, vi_list, chi, mu_list):\n",
    "    \n",
    "    y = vk_list/vi_list\n",
    "    return 2-chi*(1+2*mu_list*y+y**2)"
   ]
  },
  {
   "cell_type": "code",
   "execution_count": 32,
   "metadata": {},
   "outputs": [],
   "source": [
    "def kick_eccentricity(vk_list, vi_list, chi, mu_list, phi_list):\n",
    "    \n",
    "    sma_ratio = kick_semi_major_axis_ratio(vk_list,\n",
    "                                          vi_list,\n",
    "                                          chi,\n",
    "                                          mu_list)\n",
    "    mu = mu_list\n",
    "    y = vk_list/vi_list\n",
    "    temp = (1+mu*y)**2-(mu**2-1)*y**2*numpy.sin(phi_list)**2\n",
    "    \n",
    "    return numpy.sqrt(1-sma_ratio*temp)"
   ]
  },
  {
   "cell_type": "code",
   "execution_count": 33,
   "metadata": {},
   "outputs": [
    {
     "name": "stderr",
     "output_type": "stream",
     "text": [
      "/usr/local/lib/python2.7/dist-packages/ipykernel_launcher.py:39: RuntimeWarning: invalid value encountered in power\n"
     ]
    }
   ],
   "source": [
    "ssp = {'primary mass':randomise_salpeter_bh_progenitor_mass(int(1e6))}\n",
    "ssp['initial mass ratio'] = randomise_mass_ratio(ssp['primary mass'])\n",
    "ssp['companion mass'] = ssp['primary mass']*ssp['initial mass ratio']\n",
    "ssp['initial semi major axis'] = randomise_semi_major_axis(ssp['primary mass'])\n",
    "ssp['z'] = randomise_height_above_galactic_disc(ssp['primary mass'])\n",
    "ssp['r'] = randomise_distance_from_galactic_centre(ssp['primary mass'])\n",
    "ssp['angle'] = randomise_angle_gc_sol(ssp['primary mass'])\n",
    "ssp['black hole mass'] = calc_terminal_black_hole_mass(ssp['primary mass'])\n",
    "ssp['terminal mass ratio'] = ssp['black hole mass']/ssp['companion mass']\n",
    "ssp['age'] = numpy.random.rand(len(ssp['primary mass'])) # Age / galactic age\n",
    "ssp['lifetime'] = ssp['companion mass']**-2.5 - ssp['primary mass']**-2.5 # Normalised by the age of the galaxy\n",
    "ssp['companion mass'] = ssp['primary mass']*ssp['initial mass ratio']\n",
    "ssp['companion radius'] = mass2radius_demircan_kahraman(ssp['companion mass'])\n",
    "ssp['initial primary radius'] = mass2radius_demircan_kahraman(ssp['primary mass'])\n",
    "ssp['initial roche radius'] = roche_lobe_radius_ratio(ssp['initial mass ratio'])*ssp['initial primary radius']\n",
    "ssp['terminal roche radius'] = roche_lobe_radius_ratio(1.0/ssp['terminal mass ratio'])*ssp['companion radius']\n",
    "\n",
    "# Kicks\n",
    "ssp['kick mu'] = numpy.random.rand(len(ssp['primary mass']))*2-1\n",
    "ssp['kick phi'] = numpy.random.rand(len(ssp['primary mass']))*numpy.pi\n",
    "ssp['kick v_k'] = numpy.absolute(numpy.random.normal(0, 265, len(ssp['primary mass']))) # km/s\n",
    "ssp['kick v_i'] = 0.07*numpy.sqrt((ssp['primary mass'] + ssp['companion mass'])/ssp['initial semi major axis']) # km/s\n",
    "ssp['kick chi'] = (ssp['primary mass']+ssp['companion mass'])/(ssp['black hole mass'] + ssp['companion mass'])\n",
    "\n",
    "ssp['terminal semi major axis'] = ssp['initial semi major axis']/(\n",
    "    kick_semi_major_axis_ratio(ssp['kick v_k'], \n",
    "                               ssp['kick v_i'], \n",
    "                               ssp['kick chi'],\n",
    "                               ssp['kick mu'])\n",
    ")\n",
    "\n",
    "ssp['terminal eccentricity'] = kick_eccentricity(ssp['kick v_k'],\n",
    "                                                 ssp['kick v_i'],\n",
    "                                                 ssp['kick chi'], \n",
    "                                                 ssp['kick mu'], \n",
    "                                                 ssp['kick phi'])\n",
    "\n",
    "ssp['terminal period'] = 9.4e7*(ssp['terminal semi major axis']**1.5*\n",
    "                                ssp['primary mass']**-0.5*\n",
    "                                (0.2+ssp['initial mass ratio'])**-0.5)\n",
    "ssp['companion absolute magnitude'] = stellar_mass_to_vmag(ssp['primary mass']*ssp['initial mass ratio'])\n",
    "ssp['distance from earth'] = numpy.sqrt(ssp['z']**2+8000**2+ssp['r']**2-2*8000*ssp['r']*numpy.cos(ssp['angle']))\n",
    "ssp['companion apparent magnitude'] = absolute_to_apparent_magnitude(ssp['companion absolute magnitude'],\n",
    "                                                                     ssp['distance from earth'],\n",
    "                                                                    extinction=True)\n",
    "ssp['sigma pomega'] = calc_sigma_pomega(ssp['companion apparent magnitude'])\n",
    "ssp['parallax'] = 1e6/ssp['distance from earth'] # in uas\n",
    "ssp['sigma G'] = calc_sigma_G(ssp['companion apparent magnitude'])\n",
    "ssp['statistical weight'] = numpy.clip(ssp['lifetime'],0,1)\n",
    "ssp_kick_velocity=ssp"
   ]
  },
  {
   "cell_type": "markdown",
   "metadata": {},
   "source": [
    "Count how many will be seen by hipparcos"
   ]
  },
  {
   "cell_type": "code",
   "execution_count": 34,
   "metadata": {},
   "outputs": [
    {
     "name": "stderr",
     "output_type": "stream",
     "text": [
      "/usr/local/lib/python2.7/dist-packages/ipykernel_launcher.py:5: RuntimeWarning: invalid value encountered in less\n",
      "  \"\"\"\n",
      "/usr/local/lib/python2.7/dist-packages/ipykernel_launcher.py:6: RuntimeWarning: invalid value encountered in greater\n",
      "  \n"
     ]
    },
    {
     "data": {
      "image/png": "[encoded data removed]",
      "text/latex": [
       "$$0.0$$"
      ],
      "text/plain": [
       "0.0"
      ]
     },
     "execution_count": 34,
     "metadata": {},
     "output_type": "execute_result"
    }
   ],
   "source": [
    "filter_list = [ssp['terminal semi major axis']>0,\n",
    "               ssp['terminal eccentricity'] <0.9,\n",
    "               ssp['lifetime'] > ssp['age'],\n",
    "               ssp['terminal semi major axis']>ssp['terminal roche radius'],\n",
    "               ssp['terminal period']<5,\n",
    "               ssp['terminal period']>0.137,\n",
    "               ssp['black hole mass']>\n",
    "               3.0/(1.0-100*ssp['sigma pomega']/ssp['parallax']-\n",
    "                    100*ssp['sigma pomega']*ssp['distance from earth']/2e11/ssp['terminal semi major axis']),\n",
    "               ssp['companion apparent magnitude']<12.4,\n",
    "               ssp['terminal semi major axis']>\n",
    "               10*(1+ssp['initial mass ratio']/0.2)*100*ssp['sigma pomega']*ssp['distance from earth']*5e-12\n",
    "              ]\n",
    "mask = numpy.all(filter_list,axis=0)\n",
    "ssp['statistical weight'][mask].sum()"
   ]
  },
  {
   "cell_type": "markdown",
   "metadata": {},
   "source": [
    "Count how many will be seen by Gaia"
   ]
  },
  {
   "cell_type": "code",
   "execution_count": 35,
   "metadata": {},
   "outputs": [
    {
     "name": "stderr",
     "output_type": "stream",
     "text": [
      "/usr/local/lib/python2.7/dist-packages/ipykernel_launcher.py:5: RuntimeWarning: invalid value encountered in less\n",
      "  \"\"\"\n",
      "/usr/local/lib/python2.7/dist-packages/ipykernel_launcher.py:6: RuntimeWarning: invalid value encountered in greater\n",
      "  \n"
     ]
    },
    {
     "data": {
      "image/png": "[encoded data removed]",
      "text/latex": [
       "$$0.5262478428156254$$"
      ],
      "text/plain": [
       "0.5262478428156254"
      ]
     },
     "execution_count": 35,
     "metadata": {},
     "output_type": "execute_result"
    }
   ],
   "source": [
    "filter_list = [\n",
    "    ssp['terminal semi major axis'] > 0,\n",
    "    ssp['terminal eccentricity'] <0.9,\n",
    "    ssp['terminal semi major axis']>ssp['terminal roche radius'],\n",
    "    ssp['terminal period']<5,\n",
    "    ssp['terminal period']>0.137,\n",
    "    ssp['black hole mass']>\n",
    "    3.0/(1.0-ssp['sigma pomega']/ssp['parallax']-ssp['sigma G']-\n",
    "         ssp['sigma pomega']*ssp['distance from earth']/2e11/ssp['terminal semi major axis']),\n",
    "    ssp['companion apparent magnitude']<20,\n",
    "    ssp['terminal semi major axis']>\n",
    "    10*(1+ssp['initial mass ratio']/0.2)*ssp['sigma pomega']*ssp['distance from earth']*5e-12\n",
    "]\n",
    "mask = numpy.all(filter_list, axis=0)\n",
    "ssp['statistical weight'][mask].sum()"
   ]
  },
  {
   "cell_type": "code",
   "execution_count": 36,
   "metadata": {},
   "outputs": [
    {
     "data": {
      "image/png": "[encoded data removed]",
      "text/plain": [
       "<matplotlib.figure.Figure at 0x7fd04042ce50>"
      ]
     },
     "metadata": {},
     "output_type": "display_data"
    }
   ],
   "source": [
    "%matplotlib inline\n",
    "import matplotlib\n",
    "font = {'size':22}\n",
    "matplotlib.rc('font',**font)\n",
    "\n",
    "pylab.hist(ssp['black hole mass'][mask],10, weights=ssp['statistical weight'][mask])\n",
    "pylab.xlabel('Black hole mass [$M_{\\odot}$]');\n",
    "pylab.ylabel('Number')\n",
    "pass"
   ]
  },
  {
   "cell_type": "code",
   "execution_count": 37,
   "metadata": {},
   "outputs": [
    {
     "data": {
      "image/png": "[encoded data removed]",
      "text/plain": [
       "<matplotlib.figure.Figure at 0x7fd0400d93d0>"
      ]
     },
     "metadata": {},
     "output_type": "display_data"
    }
   ],
   "source": [
    "pylab.hist(ssp['distance from earth'][mask]/1000,10, weights=ssp['statistical weight'][mask])\n",
    "pylab.xlabel('Distance from earth [kpc]');\n",
    "pylab.ylabel('Number')\n",
    "pass"
   ]
  },
  {
   "cell_type": "code",
   "execution_count": 38,
   "metadata": {},
   "outputs": [
    {
     "data": {
      "image/png": "[encoded data removed]",
      "text/plain": [
       "<matplotlib.figure.Figure at 0x7fd04275c2d0>"
      ]
     },
     "metadata": {},
     "output_type": "display_data"
    }
   ],
   "source": [
    "pylab.hist(ssp['companion mass'][mask],10, weights=ssp['statistical weight'][mask])\n",
    "pylab.xscale('log')\n",
    "pylab.xlabel(r'Companion mass [$M_{\\odot}$]');\n",
    "pylab.ylabel('Number')\n",
    "pass"
   ]
  },
  {
   "cell_type": "code",
   "execution_count": 39,
   "metadata": {},
   "outputs": [
    {
     "data": {
      "image/png": "[encoded data removed]",
      "text/plain": [
       "<matplotlib.figure.Figure at 0x7fd04003e2d0>"
      ]
     },
     "metadata": {},
     "output_type": "display_data"
    }
   ],
   "source": [
    "pylab.hist(ssp['terminal semi major axis'][mask]/ssp['distance from earth'][mask]/4.8e-9,10,\n",
    "          weights=ssp['statistical weight'][mask])\n",
    "pylab.xscale('log')\n",
    "pylab.xlabel(r'Angular separation [mas]')\n",
    "pylab.ylabel('Number')\n",
    "pass"
   ]
  },
  {
   "cell_type": "code",
   "execution_count": 40,
   "metadata": {},
   "outputs": [
    {
     "data": {
      "image/png": "[encoded data removed]",
      "text/plain": [
       "<matplotlib.figure.Figure at 0x7fd0401a5710>"
      ]
     },
     "metadata": {},
     "output_type": "display_data"
    }
   ],
   "source": [
    "pylab.scatter(ssp['companion mass'][mask],\n",
    "              ssp['terminal semi major axis'][mask]/ssp['distance from earth'][mask]/4.8e-9\n",
    "             )\n",
    "pylab.xscale('log')\n",
    "pylab.yscale('log')\n",
    "pylab.xlabel('Companion mass[$M_{\\odot}$]')\n",
    "pylab.ylabel('Angular separation [mas]')\n",
    "pass"
   ]
  },
  {
   "cell_type": "markdown",
   "metadata": {},
   "source": [
    "## Momentum conservatoin"
   ]
  },
  {
   "cell_type": "code",
   "execution_count": 41,
   "metadata": {},
   "outputs": [
    {
     "name": "stderr",
     "output_type": "stream",
     "text": [
      "/usr/local/lib/python2.7/dist-packages/ipykernel_launcher.py:39: RuntimeWarning: invalid value encountered in power\n"
     ]
    }
   ],
   "source": [
    "ssp = {'primary mass':randomise_salpeter_bh_progenitor_mass(int(1e6))}\n",
    "ssp['initial mass ratio'] = randomise_mass_ratio(ssp['primary mass'])\n",
    "ssp['companion mass'] = ssp['primary mass']*ssp['initial mass ratio']\n",
    "ssp['initial semi major axis'] = randomise_semi_major_axis(ssp['primary mass'])\n",
    "ssp['z'] = randomise_height_above_galactic_disc(ssp['primary mass'])\n",
    "ssp['r'] = randomise_distance_from_galactic_centre(ssp['primary mass'])\n",
    "ssp['angle'] = randomise_angle_gc_sol(ssp['primary mass'])\n",
    "ssp['black hole mass'] = calc_terminal_black_hole_mass(ssp['primary mass'])\n",
    "ssp['terminal mass ratio'] = ssp['black hole mass']/ssp['companion mass']\n",
    "ssp['age'] = numpy.random.rand(len(ssp['primary mass'])) # Age / galactic age\n",
    "ssp['lifetime'] = ssp['companion mass']**-2.5 - ssp['primary mass']**-2.5 # Normalised by the age of the galaxy\n",
    "ssp['companion mass'] = ssp['primary mass']*ssp['initial mass ratio']\n",
    "ssp['companion radius'] = mass2radius_demircan_kahraman(ssp['companion mass'])\n",
    "ssp['initial primary radius'] = mass2radius_demircan_kahraman(ssp['primary mass'])\n",
    "ssp['initial roche radius'] = roche_lobe_radius_ratio(ssp['initial mass ratio'])*ssp['initial primary radius']\n",
    "ssp['terminal roche radius'] = roche_lobe_radius_ratio(1.0/ssp['terminal mass ratio'])*ssp['companion radius']\n",
    "\n",
    "# Kicks\n",
    "ssp['kick mu'] = numpy.random.rand(len(ssp['primary mass']))*2-1\n",
    "ssp['kick phi'] = numpy.random.rand(len(ssp['primary mass']))*numpy.pi\n",
    "ssp['kick v_k'] = numpy.absolute(numpy.random.normal(0, 265, len(ssp['primary mass'])))/ssp['black hole mass'] # km/s\n",
    "ssp['kick v_i'] = 0.07*numpy.sqrt((ssp['primary mass'] + ssp['companion mass'])/ssp['initial semi major axis']) # km/s\n",
    "ssp['kick chi'] = (ssp['primary mass']+ssp['companion mass'])/(ssp['black hole mass'] + ssp['companion mass'])\n",
    "\n",
    "ssp['terminal semi major axis'] = ssp['initial semi major axis']/(\n",
    "    kick_semi_major_axis_ratio(ssp['kick v_k'], \n",
    "                               ssp['kick v_i'], \n",
    "                               ssp['kick chi'],\n",
    "                               ssp['kick mu'])\n",
    ")\n",
    "\n",
    "ssp['terminal eccentricity'] = kick_eccentricity(ssp['kick v_k'],\n",
    "                                                 ssp['kick v_i'],\n",
    "                                                 ssp['kick chi'], \n",
    "                                                 ssp['kick mu'], \n",
    "                                                 ssp['kick phi'])\n",
    "\n",
    "ssp['terminal period'] = 9.4e7*(ssp['terminal semi major axis']**1.5*\n",
    "                                ssp['primary mass']**-0.5*\n",
    "                                (0.2+ssp['initial mass ratio'])**-0.5)\n",
    "ssp['companion absolute magnitude'] = stellar_mass_to_vmag(ssp['primary mass']*ssp['initial mass ratio'])\n",
    "ssp['distance from earth'] = numpy.sqrt(ssp['z']**2+8000**2+ssp['r']**2-2*8000*ssp['r']*numpy.cos(ssp['angle']))\n",
    "ssp['companion apparent magnitude'] = absolute_to_apparent_magnitude(ssp['companion absolute magnitude'],\n",
    "                                                                     ssp['distance from earth'],\n",
    "                                                                    extinction=True)\n",
    "ssp['sigma pomega'] = calc_sigma_pomega(ssp['companion apparent magnitude'])\n",
    "ssp['parallax'] = 1e6/ssp['distance from earth'] # in uas\n",
    "ssp['sigma G'] = calc_sigma_G(ssp['companion apparent magnitude'])\n",
    "ssp['statistical weight'] = numpy.clip(ssp['lifetime'],0,1)\n",
    "ssp_kick_momentum = ssp"
   ]
  },
  {
   "cell_type": "markdown",
   "metadata": {},
   "source": [
    "Hipparcos prediction"
   ]
  },
  {
   "cell_type": "code",
   "execution_count": 42,
   "metadata": {},
   "outputs": [
    {
     "name": "stderr",
     "output_type": "stream",
     "text": [
      "/usr/local/lib/python2.7/dist-packages/ipykernel_launcher.py:6: RuntimeWarning: invalid value encountered in less\n",
      "  \n",
      "/usr/local/lib/python2.7/dist-packages/ipykernel_launcher.py:7: RuntimeWarning: invalid value encountered in greater\n",
      "  import sys\n"
     ]
    },
    {
     "data": {
      "image/png": "[encoded data removed]",
      "text/latex": [
       "$$0.0$$"
      ],
      "text/plain": [
       "0.0"
      ]
     },
     "execution_count": 42,
     "metadata": {},
     "output_type": "execute_result"
    }
   ],
   "source": [
    "filter_list = [\n",
    "    ssp['terminal semi major axis'] > 0,\n",
    "    ssp['terminal eccentricity'] <0.9,\n",
    "    ssp['lifetime'] > ssp['age'],\n",
    "    ssp['terminal semi major axis']>ssp['terminal roche radius'],\n",
    "    ssp['terminal period']<5,\n",
    "    ssp['terminal period']>0.137,\n",
    "    ssp['black hole mass']>\n",
    "    3.0/(1.0-100*ssp['sigma pomega']/ssp['parallax']-\n",
    "         100*ssp['sigma pomega']*ssp['distance from earth']/2e11/ssp['terminal semi major axis']),\n",
    "    ssp['companion apparent magnitude']<12.4,\n",
    "    ssp['terminal semi major axis']>\n",
    "    10*(1+ssp['initial mass ratio']/0.2)*100*ssp['sigma pomega']*ssp['distance from earth']*5e-12\n",
    "]\n",
    "mask = numpy.all(filter_list, axis=0)\n",
    "ssp['statistical weight'][mask].sum()"
   ]
  },
  {
   "cell_type": "markdown",
   "metadata": {},
   "source": [
    "Gaia prediction"
   ]
  },
  {
   "cell_type": "code",
   "execution_count": 43,
   "metadata": {},
   "outputs": [
    {
     "name": "stderr",
     "output_type": "stream",
     "text": [
      "/usr/local/lib/python2.7/dist-packages/ipykernel_launcher.py:5: RuntimeWarning: invalid value encountered in less\n",
      "  \"\"\"\n",
      "/usr/local/lib/python2.7/dist-packages/ipykernel_launcher.py:6: RuntimeWarning: invalid value encountered in greater\n",
      "  \n"
     ]
    },
    {
     "data": {
      "image/png": "[encoded data removed]",
      "text/latex": [
       "$$0.9285776925905317$$"
      ],
      "text/plain": [
       "0.9285776925905317"
      ]
     },
     "execution_count": 43,
     "metadata": {},
     "output_type": "execute_result"
    }
   ],
   "source": [
    "filter_list = [\n",
    "    ssp['terminal semi major axis'] > 0,\n",
    "    ssp['terminal eccentricity'] <0.9,\n",
    "    ssp['terminal semi major axis']>ssp['terminal roche radius'],\n",
    "    ssp['terminal period']<5,\n",
    "    ssp['terminal period']>0.137,\n",
    "    ssp['black hole mass']>\n",
    "    3.0/(1.0-ssp['sigma pomega']/ssp['parallax']-ssp['sigma G']-\n",
    "         ssp['sigma pomega']*ssp['distance from earth']/2e11/ssp['terminal semi major axis']),\n",
    "    ssp['companion apparent magnitude']<20,\n",
    "    ssp['terminal semi major axis']>\n",
    "    10*(1+ssp['initial mass ratio']/0.2)*ssp['sigma pomega']*ssp['distance from earth']*5e-12\n",
    "]\n",
    "mask = numpy.all(filter_list, axis=0)\n",
    "ssp['statistical weight'][mask].sum()"
   ]
  },
  {
   "cell_type": "code",
   "execution_count": 44,
   "metadata": {},
   "outputs": [
    {
     "data": {
      "image/png": "[encoded data removed]",
      "text/plain": [
       "<matplotlib.figure.Figure at 0x7fd0401297d0>"
      ]
     },
     "metadata": {},
     "output_type": "display_data"
    }
   ],
   "source": [
    "%matplotlib inline\n",
    "import matplotlib\n",
    "font = {'size':22}\n",
    "matplotlib.rc('font',**font)\n",
    "\n",
    "pylab.hist(ssp['black hole mass'][mask],10, weights=ssp['statistical weight'][mask])\n",
    "pylab.xlabel('Black hole mass [$M_{\\odot}$]');\n",
    "pylab.ylabel('Number')\n",
    "pass"
   ]
  },
  {
   "cell_type": "code",
   "execution_count": 45,
   "metadata": {},
   "outputs": [
    {
     "data": {
      "image/png": "[encoded data removed]",
      "text/plain": [
       "<matplotlib.figure.Figure at 0x7fd0401088d0>"
      ]
     },
     "metadata": {},
     "output_type": "display_data"
    }
   ],
   "source": [
    "pylab.hist(ssp['distance from earth'][mask]/1000,10, weights=ssp['statistical weight'][mask])\n",
    "pylab.xlabel('Distance from earth [kpc]');\n",
    "pylab.ylabel('Number')\n",
    "pass"
   ]
  },
  {
   "cell_type": "code",
   "execution_count": 48,
   "metadata": {},
   "outputs": [
    {
     "data": {
      "image/png": "[encoded data removed]",
      "text/plain": [
       "<matplotlib.figure.Figure at 0x7fd04016bc90>"
      ]
     },
     "metadata": {},
     "output_type": "display_data"
    }
   ],
   "source": [
    "pylab.hist(ssp['companion mass'][mask],10, weights=ssp['statistical weight'][mask])\n",
    "pylab.xscale('log')\n",
    "pylab.xlabel(r'Companion mass [$M_{\\odot}$]');\n",
    "pylab.ylabel('Number')\n",
    "pass"
   ]
  },
  {
   "cell_type": "code",
   "execution_count": null,
   "metadata": {},
   "outputs": [],
   "source": [
    "pylab.hist(ssp['terminal semi major axis'][mask]/ssp['distance from earth'][mask]/4.8e-9,10,\n",
    "          weights=ssp['statistical weight'][mask])\n",
    "pylab.xscale('log')\n",
    "pylab.xlabel(r'Angular separation [mas]')\n",
    "pylab.ylabel('Number')\n",
    "pass"
   ]
  },
  {
   "cell_type": "code",
   "execution_count": null,
   "metadata": {},
   "outputs": [],
   "source": [
    "pylab.scatter(ssp['companion mass'][mask],\n",
    "              ssp['terminal semi major axis'][mask]/ssp['distance from earth'][mask]/4.8e-9\n",
    "             )\n",
    "pylab.xscale('log')\n",
    "pylab.yscale('log')\n",
    "pylab.xlabel('Companion mass[$M_{\\odot}$]')\n",
    "pylab.ylabel('Angular separation [mas]')\n",
    "pass"
   ]
  },
  {
   "cell_type": "code",
   "execution_count": null,
   "metadata": {},
   "outputs": [],
   "source": []
  }
 ],
 "metadata": {
  "kernelspec": {
   "display_name": "Python 2",
   "language": "python",
   "name": "python2"
  },
  "language_info": {
   "codemirror_mode": {
    "name": "ipython",
    "version": 2
   },
   "file_extension": ".py",
   "mimetype": "text/x-python",
   "name": "python",
   "nbconvert_exporter": "python",
   "pygments_lexer": "ipython2",
   "version": "2.7.12"
  }
 },
 "nbformat": 4,
 "nbformat_minor": 2
}
