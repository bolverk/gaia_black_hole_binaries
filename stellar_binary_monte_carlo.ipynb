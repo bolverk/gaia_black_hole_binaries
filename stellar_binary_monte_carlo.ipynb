{
 "cells": [
  {
   "cell_type": "markdown",
   "metadata": {},
   "source": [
    "[Theory paper](https://arxiv.org/pdf/1710.09839.pdf)\n",
    "[GAIA paper](https://www.aanda.org/articles/aa/full_html/2016/11/aa29272-16/aa29272-16.html)"
   ]
  },
  {
   "cell_type": "markdown",
   "metadata": {},
   "source": [
    "Note about units: The default unit for length is parsec, for mass is a solar mass, and for time is years."
   ]
  },
  {
   "cell_type": "code",
   "execution_count": 1,
   "metadata": {
    "collapsed": true
   },
   "outputs": [],
   "source": [
    "import sympy\n",
    "sympy.init_printing()\n",
    "import numpy\n",
    "import pylab\n",
    "import time"
   ]
  },
  {
   "cell_type": "markdown",
   "metadata": {},
   "source": [
    "Progress bar"
   ]
  },
  {
   "cell_type": "code",
   "execution_count": 2,
   "metadata": {
    "collapsed": true
   },
   "outputs": [],
   "source": [
    "def log_progress(sequence, every=None, size=None, name='Items'):\n",
    "    from ipywidgets import IntProgress, HTML, VBox\n",
    "    from IPython.display import display\n",
    "\n",
    "    is_iterator = False\n",
    "    if size is None:\n",
    "        try:\n",
    "            size = len(sequence)\n",
    "        except TypeError:\n",
    "            is_iterator = True\n",
    "    if size is not None:\n",
    "        if every is None:\n",
    "            if size <= 200:\n",
    "                every = 1\n",
    "            else:\n",
    "                every = int(size / 200)     # every 0.5%\n",
    "    else:\n",
    "        assert every is not None, 'sequence is iterator, set every'\n",
    "\n",
    "    if is_iterator:\n",
    "        progress = IntProgress(min=0, max=1, value=1)\n",
    "        progress.bar_style = 'info'\n",
    "    else:\n",
    "        progress = IntProgress(min=0, max=size, value=0)\n",
    "    label = HTML()\n",
    "    box = VBox(children=[label, progress])\n",
    "    display(box)\n",
    "\n",
    "    index = 0\n",
    "    try:\n",
    "        for index, record in enumerate(sequence, 1):\n",
    "            if index == 1 or index % every == 0:\n",
    "                if is_iterator:\n",
    "                    label.value = '{name}: {index} / ?'.format(\n",
    "                        name=name,\n",
    "                        index=index\n",
    "                    )\n",
    "                else:\n",
    "                    progress.value = index\n",
    "                    label.value = u'{name}: {index} / {size}'.format(\n",
    "                        name=name,\n",
    "                        index=index,\n",
    "                        size=size\n",
    "                    )\n",
    "            yield record\n",
    "    except:\n",
    "        progress.bar_style = 'danger'\n",
    "        raise\n",
    "    else:\n",
    "        progress.bar_style = 'success'\n",
    "        progress.value = index\n",
    "        label.value = \"{name}: {index}\".format(\n",
    "            name=name,\n",
    "            index=str(index or '?')\n",
    "        )"
   ]
  },
  {
   "cell_type": "markdown",
   "metadata": {},
   "source": [
    "[Salpeter initial mass function](https://en.wikipedia.org/wiki/Initial_mass_function)"
   ]
  },
  {
   "cell_type": "code",
   "execution_count": 3,
   "metadata": {},
   "outputs": [
    {
     "data": {
      "image/png": "[encoded data removed]",
      "text/latex": [
       "$$C_{salpeter} M_{*}^{- a_{salpeter}}$$"
      ],
      "text/plain": [
       "                -a_{salpeter}\n",
       "C_{salpeter}⋅M_*             "
      ]
     },
     "execution_count": 3,
     "metadata": {},
     "output_type": "execute_result"
    }
   ],
   "source": [
    "M_star = sympy.Symbol('M_*', positive=True)\n",
    "M_star_min = sympy.Symbol('M_{*min}', positive=True)\n",
    "M_star_max = sympy.Symbol('M_{*max}', positive=True)\n",
    "a_salpeter = sympy.Symbol('a_{salpeter}', positive=True)\n",
    "C_salpeter = sympy.Symbol('C_{salpeter}', positive=True)\n",
    "salpeter_imf = C_salpeter*M_star**(-a_salpeter)\n",
    "salpeter_imf"
   ]
  },
  {
   "cell_type": "code",
   "execution_count": 4,
   "metadata": {},
   "outputs": [
    {
     "data": {
      "image/png": "[encoded data removed]",
      "text/latex": [
       "$$\\frac{- a_{salpeter} + 1}{M_{*max}^{- a_{salpeter} + 1} - M_{*min}^{- a_{salpeter} + 1}}$$"
      ],
      "text/plain": [
       "                  -a_{salpeter} + 1                  \n",
       "─────────────────────────────────────────────────────\n",
       "        -a_{salpeter} + 1           -a_{salpeter} + 1\n",
       "M_{*max}                  - M_{*min}                 "
      ]
     },
     "execution_count": 4,
     "metadata": {},
     "output_type": "execute_result"
    }
   ],
   "source": [
    "temp = salpeter_imf\n",
    "temp = sympy.integrate(temp, M_star, conds='none')\n",
    "C_salpeter_expr = sympy.solve(temp.subs(M_star, M_star_max) - temp.subs(M_star, M_star_min)-1, C_salpeter)[0]\n",
    "C_salpeter_expr"
   ]
  },
  {
   "cell_type": "code",
   "execution_count": 5,
   "metadata": {},
   "outputs": [
    {
     "data": {
      "image/png": "[encoded data removed]",
      "text/latex": [
       "$$\\frac{M_{*}^{- a_{salpeter} + 1} - M_{*min}^{- a_{salpeter} + 1}}{M_{*max}^{- a_{salpeter} + 1} - M_{*min}^{- a_{salpeter} + 1}}$$"
      ],
      "text/plain": [
       "      -a_{salpeter} + 1           -a_{salpeter} + 1  \n",
       "   M_*                  - M_{*min}                   \n",
       "─────────────────────────────────────────────────────\n",
       "        -a_{salpeter} + 1           -a_{salpeter} + 1\n",
       "M_{*max}                  - M_{*min}                 "
      ]
     },
     "execution_count": 5,
     "metadata": {},
     "output_type": "execute_result"
    }
   ],
   "source": [
    "temp = salpeter_imf.subs(C_salpeter, C_salpeter_expr)\n",
    "temp = sympy.integrate(temp, M_star, conds='none')\n",
    "temp = temp - temp.subs(M_star, M_star_min)\n",
    "cumulative_salpeter_imf = temp.simplify()\n",
    "cumulative_salpeter_imf"
   ]
  },
  {
   "cell_type": "markdown",
   "metadata": {},
   "source": [
    "What is the probability that a star is born with a mass in excess of 20 $M_{\\odot}$?"
   ]
  },
  {
   "cell_type": "code",
   "execution_count": 6,
   "metadata": {},
   "outputs": [
    {
     "data": {
      "image/png": "[encoded data removed]",
      "text/latex": [
       "$$0.000513226989810489$$"
      ],
      "text/plain": [
       "0.000513226989810489"
      ]
     },
     "execution_count": 6,
     "metadata": {},
     "output_type": "execute_result"
    }
   ],
   "source": [
    "1-cumulative_salpeter_imf.subs({\n",
    "    M_star: 20,\n",
    "    M_star_min:0.08,\n",
    "    M_star_max:100,\n",
    "    a_salpeter:2.35\n",
    "})"
   ]
  },
  {
   "cell_type": "markdown",
   "metadata": {},
   "source": [
    "Distribution function for masses above 20 $M_{\\odot}$"
   ]
  },
  {
   "cell_type": "code",
   "execution_count": 7,
   "metadata": {},
   "outputs": [
    {
     "data": {
      "image/png": "[encoded data removed]",
      "text/latex": [
       "$$\\frac{20}{\\left(- 0.886134936114969 f + 1\\right)^{0.740740740740741}}$$"
      ],
      "text/plain": [
       "                             -0.740740740740741\n",
       "20⋅(-0.886134936114969⋅f + 1)                  "
      ]
     },
     "execution_count": 7,
     "metadata": {},
     "output_type": "execute_result"
    }
   ],
   "source": [
    "xi = sympy.Symbol('xi', positive=True)\n",
    "f = sympy.Symbol('f', positive=True)\n",
    "temp = sympy.Eq(f, cumulative_salpeter_imf)\n",
    "temp = sympy.solve(temp, M_star)[0].simplify()\n",
    "temp = sympy.expand_power_base(temp.subs(M_star_max, xi*M_star_min), force=True).simplify()\n",
    "temp = sympy.expand_power_base(temp, force=True).simplify()\n",
    "temp = temp.subs(xi, M_star_max/M_star_min)\n",
    "temp.subs({a_salpeter: 2.35,\n",
    "           M_star_min: 20,\n",
    "           M_star_max: 100\n",
    "          })"
   ]
  },
  {
   "cell_type": "markdown",
   "metadata": {},
   "source": [
    "This is a simplified version of the IMFs used in the theory paper (equation 1 and 2 in theory paper)"
   ]
  },
  {
   "cell_type": "code",
   "execution_count": 8,
   "metadata": {
    "collapsed": true
   },
   "outputs": [],
   "source": [
    "def randomise_salpeter_bh_progenitor_mass(l):\n",
    "    \n",
    "    f = numpy.random.rand(l)\n",
    "    \n",
    "    return 20.0/(1.0-0.886*f)**0.741"
   ]
  },
  {
   "cell_type": "markdown",
   "metadata": {},
   "source": [
    "Mass ratio (equation 3)"
   ]
  },
  {
   "cell_type": "code",
   "execution_count": 9,
   "metadata": {
    "collapsed": true
   },
   "outputs": [],
   "source": [
    "def randomise_mass_ratio(M1_list):\n",
    "    \n",
    "    q_min = 0.08/M1_list\n",
    "    f_list = numpy.random.rand(len(M1_list))\n",
    "    return q_min + f_list*(1-q_min)"
   ]
  },
  {
   "cell_type": "markdown",
   "metadata": {},
   "source": [
    "Semi major axis distribution (equation 6)"
   ]
  },
  {
   "cell_type": "code",
   "execution_count": 10,
   "metadata": {
    "collapsed": true
   },
   "outputs": [],
   "source": [
    "def randomise_semi_major_axis(M1_list):\n",
    "    \n",
    "    f_list = numpy.random.rand(len(M1_list))\n",
    "    log10A_list = 8.0*(f_list - 1)\n",
    "    return 10**log10A_list"
   ]
  },
  {
   "cell_type": "markdown",
   "metadata": {},
   "source": [
    "Position in the galaxy (equation 11)"
   ]
  },
  {
   "cell_type": "code",
   "execution_count": 11,
   "metadata": {
    "collapsed": true
   },
   "outputs": [],
   "source": [
    "def randomise_height_above_galactic_disc(M1_list):\n",
    "    \n",
    "    f_list = numpy.random.rand(len(M1_list))\n",
    "    return -250*numpy.log(1-f_list)"
   ]
  },
  {
   "cell_type": "code",
   "execution_count": 12,
   "metadata": {
    "collapsed": true
   },
   "outputs": [],
   "source": [
    "def randomise_distance_from_galactic_centre(M1_list):\n",
    "    \n",
    "    f_list = numpy.random.rand(len(M1_list))\n",
    "    return -3500*numpy.log(1-f_list)"
   ]
  },
  {
   "cell_type": "markdown",
   "metadata": {},
   "source": [
    "Angle around the galactic rotation axis, relative to the line connecting the galactic centre to the sun"
   ]
  },
  {
   "cell_type": "code",
   "execution_count": 13,
   "metadata": {
    "collapsed": true
   },
   "outputs": [],
   "source": [
    "def randomise_angle_gc_sol(M1_list):\n",
    "    \n",
    "    return numpy.pi*numpy.random.rand(len(M1_list))"
   ]
  },
  {
   "cell_type": "markdown",
   "metadata": {},
   "source": [
    "Relation between mass and radius, using the empiric relation from [Demircan and Kahraman (1991)](http://adsabs.harvard.edu/abs/1991Ap%26SS.181..313D), page 319"
   ]
  },
  {
   "cell_type": "code",
   "execution_count": 14,
   "metadata": {
    "collapsed": true
   },
   "outputs": [],
   "source": [
    "def mass2radius_demircan_kahraman(m):\n",
    "    \n",
    "    return 1.6*m**0.83*2.3e-8"
   ]
  },
  {
   "cell_type": "markdown",
   "metadata": {},
   "source": [
    "Calculation of the ratio between the Roche lobe radius and the radius of the donor, according to the mass ratio $q$, using (equation 7)"
   ]
  },
  {
   "cell_type": "code",
   "execution_count": 15,
   "metadata": {
    "collapsed": true
   },
   "outputs": [],
   "source": [
    "def roche_lobe_radius_ratio(q):\n",
    "    \n",
    "    return (0.6*q**-0.67+numpy.log(1+q**-0.33))/(0.49*q**-0.67)"
   ]
  },
  {
   "cell_type": "markdown",
   "metadata": {},
   "source": [
    "Terminal semi major axis for binaries with comparable masses (equation 20)"
   ]
  },
  {
   "cell_type": "code",
   "execution_count": 16,
   "metadata": {
    "collapsed": true
   },
   "outputs": [],
   "source": [
    "def calc_current_semi_major_axis_massive(q_list):\n",
    "    \n",
    "    return 11.18*(0.6+q_list)/(1+q_list)/(1+0.4/q_list)**3"
   ]
  },
  {
   "cell_type": "markdown",
   "metadata": {},
   "source": [
    "Terminal semi major axis for binaries with large mass ratio (equation 23)"
   ]
  },
  {
   "cell_type": "code",
   "execution_count": 17,
   "metadata": {
    "collapsed": true
   },
   "outputs": [],
   "source": [
    "def calc_current_semi_major_axis_wimpy(q_list, rl_list):\n",
    "    \n",
    "    k = 0.2\n",
    "    alpha = 1.0\n",
    "    return 1.0/(2*(1-k)/(alpha*k*q_list*rl_list)+1.0/k)"
   ]
  },
  {
   "cell_type": "markdown",
   "metadata": {},
   "source": [
    "Relation between progenitor and black hole mass (equation 19)"
   ]
  },
  {
   "cell_type": "code",
   "execution_count": 26,
   "metadata": {
    "collapsed": true
   },
   "outputs": [],
   "source": [
    "def calc_terminal_black_hole_mass(M1_list):\n",
    "    \n",
    "    return 8.0*numpy.log(M1_list - 19)/numpy.log(81.0)+2"
   ]
  },
  {
   "cell_type": "markdown",
   "metadata": {},
   "source": [
    "Stellar classification"
   ]
  },
  {
   "cell_type": "markdown",
   "metadata": {},
   "source": [
    "Based on [this table](http://www.pas.rochester.edu/~emamajek/EEM_dwarf_UBVIJHK_colors_Teff.txt)"
   ]
  },
  {
   "cell_type": "markdown",
   "metadata": {},
   "source": [
    "Parse table"
   ]
  },
  {
   "cell_type": "code",
   "execution_count": 18,
   "metadata": {
    "collapsed": true
   },
   "outputs": [],
   "source": [
    "with open('EEM_dwarf_UBVIJHK_colors_Teff.txt') as f:\n",
    "    data = f.readlines()\n",
    "table_lines = []\n",
    "important_flag = False\n",
    "\n",
    "for line in data:\n",
    "    if '#SpT' in line:\n",
    "        important_flag = not important_flag\n",
    "        continue\n",
    "    if important_flag:\n",
    "        table_lines.append(line)\n",
    "\n",
    "table_mass = []\n",
    "table_vmag = []\n",
    "for line in table_lines:\n",
    "    mass_candidate_text = line.split()[19]\n",
    "    mv_candidate_text = line.split()[4]\n",
    "    if '...' in mass_candidate_text or '...' in mv_candidate_text:\n",
    "        continue\n",
    "    table_mass.append(float(mass_candidate_text))\n",
    "    table_vmag.append(float(mv_candidate_text))\n",
    "table_mass = numpy.array(table_mass)\n",
    "table_vmag = numpy.array(table_vmag)"
   ]
  },
  {
   "cell_type": "code",
   "execution_count": 19,
   "metadata": {},
   "outputs": [
    {
     "data": {
      "application/javascript": [
       "/* Put everything inside the global mpl namespace */\n",
       "window.mpl = {};\n",
       "\n",
       "\n",
       "mpl.get_websocket_type = function() {\n",
       "    if (typeof(WebSocket) !== 'undefined') {\n",
       "        return WebSocket;\n",
       "    } else if (typeof(MozWebSocket) !== 'undefined') {\n",
       "        return MozWebSocket;\n",
       "    } else {\n",
       "        alert('Your browser does not have WebSocket support.' +\n",
       "              'Please try Chrome, Safari or Firefox ≥ 6. ' +\n",
       "              'Firefox 4 and 5 are also supported but you ' +\n",
       "              'have to enable WebSockets in about:config.');\n",
       "    };\n",
       "}\n",
       "\n",
       "mpl.figure = function(figure_id, websocket, ondownload, parent_element) {\n",
       "    this.id = figure_id;\n",
       "\n",
       "    this.ws = websocket;\n",
       "\n",
       "    this.supports_binary = (this.ws.binaryType != undefined);\n",
       "\n",
       "    if (!this.supports_binary) {\n",
       "        var warnings = document.getElementById(\"mpl-warnings\");\n",
       "        if (warnings) {\n",
       "            warnings.style.display = 'block';\n",
       "            warnings.textContent = (\n",
       "                \"This browser does not support binary websocket messages. \" +\n",
       "                    \"Performance may be slow.\");\n",
       "        }\n",
       "    }\n",
       "\n",
       "    this.imageObj = new Image();\n",
       "\n",
       "    this.context = undefined;\n",
       "    this.message = undefined;\n",
       "    this.canvas = undefined;\n",
       "    this.rubberband_canvas = undefined;\n",
       "    this.rubberband_context = undefined;\n",
       "    this.format_dropdown = undefined;\n",
       "\n",
       "    this.image_mode = 'full';\n",
       "\n",
       "    this.root = $('<div/>');\n",
       "    this._root_extra_style(this.root)\n",
       "    this.root.attr('style', 'display: inline-block');\n",
       "\n",
       "    $(parent_element).append(this.root);\n",
       "\n",
       "    this._init_header(this);\n",
       "    this._init_canvas(this);\n",
       "    this._init_toolbar(this);\n",
       "\n",
       "    var fig = this;\n",
       "\n",
       "    this.waiting = false;\n",
       "\n",
       "    this.ws.onopen =  function () {\n",
       "            fig.send_message(\"supports_binary\", {value: fig.supports_binary});\n",
       "            fig.send_message(\"send_image_mode\", {});\n",
       "            if (mpl.ratio != 1) {\n",
       "                fig.send_message(\"set_dpi_ratio\", {'dpi_ratio': mpl.ratio});\n",
       "            }\n",
       "            fig.send_message(\"refresh\", {});\n",
       "        }\n",
       "\n",
       "    this.imageObj.onload = function() {\n",
       "            if (fig.image_mode == 'full') {\n",
       "                // Full images could contain transparency (where diff images\n",
       "                // almost always do), so we need to clear the canvas so that\n",
       "                // there is no ghosting.\n",
       "                fig.context.clearRect(0, 0, fig.canvas.width, fig.canvas.height);\n",
       "            }\n",
       "            fig.context.drawImage(fig.imageObj, 0, 0);\n",
       "        };\n",
       "\n",
       "    this.imageObj.onunload = function() {\n",
       "        fig.ws.close();\n",
       "    }\n",
       "\n",
       "    this.ws.onmessage = this._make_on_message_function(this);\n",
       "\n",
       "    this.ondownload = ondownload;\n",
       "}\n",
       "\n",
       "mpl.figure.prototype._init_header = function() {\n",
       "    var titlebar = $(\n",
       "        '<div class=\"ui-dialog-titlebar ui-widget-header ui-corner-all ' +\n",
       "        'ui-helper-clearfix\"/>');\n",
       "    var titletext = $(\n",
       "        '<div class=\"ui-dialog-title\" style=\"width: 100%; ' +\n",
       "        'text-align: center; padding: 3px;\"/>');\n",
       "    titlebar.append(titletext)\n",
       "    this.root.append(titlebar);\n",
       "    this.header = titletext[0];\n",
       "}\n",
       "\n",
       "\n",
       "\n",
       "mpl.figure.prototype._canvas_extra_style = function(canvas_div) {\n",
       "\n",
       "}\n",
       "\n",
       "\n",
       "mpl.figure.prototype._root_extra_style = function(canvas_div) {\n",
       "\n",
       "}\n",
       "\n",
       "mpl.figure.prototype._init_canvas = function() {\n",
       "    var fig = this;\n",
       "\n",
       "    var canvas_div = $('<div/>');\n",
       "\n",
       "    canvas_div.attr('style', 'position: relative; clear: both; outline: 0');\n",
       "\n",
       "    function canvas_keyboard_event(event) {\n",
       "        return fig.key_event(event, event['data']);\n",
       "    }\n",
       "\n",
       "    canvas_div.keydown('key_press', canvas_keyboard_event);\n",
       "    canvas_div.keyup('key_release', canvas_keyboard_event);\n",
       "    this.canvas_div = canvas_div\n",
       "    this._canvas_extra_style(canvas_div)\n",
       "    this.root.append(canvas_div);\n",
       "\n",
       "    var canvas = $('<canvas/>');\n",
       "    canvas.addClass('mpl-canvas');\n",
       "    canvas.attr('style', \"left: 0; top: 0; z-index: 0; outline: 0\")\n",
       "\n",
       "    this.canvas = canvas[0];\n",
       "    this.context = canvas[0].getContext(\"2d\");\n",
       "\n",
       "    var backingStore = this.context.backingStorePixelRatio ||\n",
       "\tthis.context.webkitBackingStorePixelRatio ||\n",
       "\tthis.context.mozBackingStorePixelRatio ||\n",
       "\tthis.context.msBackingStorePixelRatio ||\n",
       "\tthis.context.oBackingStorePixelRatio ||\n",
       "\tthis.context.backingStorePixelRatio || 1;\n",
       "\n",
       "    mpl.ratio = (window.devicePixelRatio || 1) / backingStore;\n",
       "\n",
       "    var rubberband = $('<canvas/>');\n",
       "    rubberband.attr('style', \"position: absolute; left: 0; top: 0; z-index: 1;\")\n",
       "\n",
       "    var pass_mouse_events = true;\n",
       "\n",
       "    canvas_div.resizable({\n",
       "        start: function(event, ui) {\n",
       "            pass_mouse_events = false;\n",
       "        },\n",
       "        resize: function(event, ui) {\n",
       "            fig.request_resize(ui.size.width, ui.size.height);\n",
       "        },\n",
       "        stop: function(event, ui) {\n",
       "            pass_mouse_events = true;\n",
       "            fig.request_resize(ui.size.width, ui.size.height);\n",
       "        },\n",
       "    });\n",
       "\n",
       "    function mouse_event_fn(event) {\n",
       "        if (pass_mouse_events)\n",
       "            return fig.mouse_event(event, event['data']);\n",
       "    }\n",
       "\n",
       "    rubberband.mousedown('button_press', mouse_event_fn);\n",
       "    rubberband.mouseup('button_release', mouse_event_fn);\n",
       "    // Throttle sequential mouse events to 1 every 20ms.\n",
       "    rubberband.mousemove('motion_notify', mouse_event_fn);\n",
       "\n",
       "    rubberband.mouseenter('figure_enter', mouse_event_fn);\n",
       "    rubberband.mouseleave('figure_leave', mouse_event_fn);\n",
       "\n",
       "    canvas_div.on(\"wheel\", function (event) {\n",
       "        event = event.originalEvent;\n",
       "        event['data'] = 'scroll'\n",
       "        if (event.deltaY < 0) {\n",
       "            event.step = 1;\n",
       "        } else {\n",
       "            event.step = -1;\n",
       "        }\n",
       "        mouse_event_fn(event);\n",
       "    });\n",
       "\n",
       "    canvas_div.append(canvas);\n",
       "    canvas_div.append(rubberband);\n",
       "\n",
       "    this.rubberband = rubberband;\n",
       "    this.rubberband_canvas = rubberband[0];\n",
       "    this.rubberband_context = rubberband[0].getContext(\"2d\");\n",
       "    this.rubberband_context.strokeStyle = \"#000000\";\n",
       "\n",
       "    this._resize_canvas = function(width, height) {\n",
       "        // Keep the size of the canvas, canvas container, and rubber band\n",
       "        // canvas in synch.\n",
       "        canvas_div.css('width', width)\n",
       "        canvas_div.css('height', height)\n",
       "\n",
       "        canvas.attr('width', width * mpl.ratio);\n",
       "        canvas.attr('height', height * mpl.ratio);\n",
       "        canvas.attr('style', 'width: ' + width + 'px; height: ' + height + 'px;');\n",
       "\n",
       "        rubberband.attr('width', width);\n",
       "        rubberband.attr('height', height);\n",
       "    }\n",
       "\n",
       "    // Set the figure to an initial 600x600px, this will subsequently be updated\n",
       "    // upon first draw.\n",
       "    this._resize_canvas(600, 600);\n",
       "\n",
       "    // Disable right mouse context menu.\n",
       "    $(this.rubberband_canvas).bind(\"contextmenu\",function(e){\n",
       "        return false;\n",
       "    });\n",
       "\n",
       "    function set_focus () {\n",
       "        canvas.focus();\n",
       "        canvas_div.focus();\n",
       "    }\n",
       "\n",
       "    window.setTimeout(set_focus, 100);\n",
       "}\n",
       "\n",
       "mpl.figure.prototype._init_toolbar = function() {\n",
       "    var fig = this;\n",
       "\n",
       "    var nav_element = $('<div/>')\n",
       "    nav_element.attr('style', 'width: 100%');\n",
       "    this.root.append(nav_element);\n",
       "\n",
       "    // Define a callback function for later on.\n",
       "    function toolbar_event(event) {\n",
       "        return fig.toolbar_button_onclick(event['data']);\n",
       "    }\n",
       "    function toolbar_mouse_event(event) {\n",
       "        return fig.toolbar_button_onmouseover(event['data']);\n",
       "    }\n",
       "\n",
       "    for(var toolbar_ind in mpl.toolbar_items) {\n",
       "        var name = mpl.toolbar_items[toolbar_ind][0];\n",
       "        var tooltip = mpl.toolbar_items[toolbar_ind][1];\n",
       "        var image = mpl.toolbar_items[toolbar_ind][2];\n",
       "        var method_name = mpl.toolbar_items[toolbar_ind][3];\n",
       "\n",
       "        if (!name) {\n",
       "            // put a spacer in here.\n",
       "            continue;\n",
       "        }\n",
       "        var button = $('<button/>');\n",
       "        button.addClass('ui-button ui-widget ui-state-default ui-corner-all ' +\n",
       "                        'ui-button-icon-only');\n",
       "        button.attr('role', 'button');\n",
       "        button.attr('aria-disabled', 'false');\n",
       "        button.click(method_name, toolbar_event);\n",
       "        button.mouseover(tooltip, toolbar_mouse_event);\n",
       "\n",
       "        var icon_img = $('<span/>');\n",
       "        icon_img.addClass('ui-button-icon-primary ui-icon');\n",
       "        icon_img.addClass(image);\n",
       "        icon_img.addClass('ui-corner-all');\n",
       "\n",
       "        var tooltip_span = $('<span/>');\n",
       "        tooltip_span.addClass('ui-button-text');\n",
       "        tooltip_span.html(tooltip);\n",
       "\n",
       "        button.append(icon_img);\n",
       "        button.append(tooltip_span);\n",
       "\n",
       "        nav_element.append(button);\n",
       "    }\n",
       "\n",
       "    var fmt_picker_span = $('<span/>');\n",
       "\n",
       "    var fmt_picker = $('<select/>');\n",
       "    fmt_picker.addClass('mpl-toolbar-option ui-widget ui-widget-content');\n",
       "    fmt_picker_span.append(fmt_picker);\n",
       "    nav_element.append(fmt_picker_span);\n",
       "    this.format_dropdown = fmt_picker[0];\n",
       "\n",
       "    for (var ind in mpl.extensions) {\n",
       "        var fmt = mpl.extensions[ind];\n",
       "        var option = $(\n",
       "            '<option/>', {selected: fmt === mpl.default_extension}).html(fmt);\n",
       "        fmt_picker.append(option)\n",
       "    }\n",
       "\n",
       "    // Add hover states to the ui-buttons\n",
       "    $( \".ui-button\" ).hover(\n",
       "        function() { $(this).addClass(\"ui-state-hover\");},\n",
       "        function() { $(this).removeClass(\"ui-state-hover\");}\n",
       "    );\n",
       "\n",
       "    var status_bar = $('<span class=\"mpl-message\"/>');\n",
       "    nav_element.append(status_bar);\n",
       "    this.message = status_bar[0];\n",
       "}\n",
       "\n",
       "mpl.figure.prototype.request_resize = function(x_pixels, y_pixels) {\n",
       "    // Request matplotlib to resize the figure. Matplotlib will then trigger a resize in the client,\n",
       "    // which will in turn request a refresh of the image.\n",
       "    this.send_message('resize', {'width': x_pixels, 'height': y_pixels});\n",
       "}\n",
       "\n",
       "mpl.figure.prototype.send_message = function(type, properties) {\n",
       "    properties['type'] = type;\n",
       "    properties['figure_id'] = this.id;\n",
       "    this.ws.send(JSON.stringify(properties));\n",
       "}\n",
       "\n",
       "mpl.figure.prototype.send_draw_message = function() {\n",
       "    if (!this.waiting) {\n",
       "        this.waiting = true;\n",
       "        this.ws.send(JSON.stringify({type: \"draw\", figure_id: this.id}));\n",
       "    }\n",
       "}\n",
       "\n",
       "\n",
       "mpl.figure.prototype.handle_save = function(fig, msg) {\n",
       "    var format_dropdown = fig.format_dropdown;\n",
       "    var format = format_dropdown.options[format_dropdown.selectedIndex].value;\n",
       "    fig.ondownload(fig, format);\n",
       "}\n",
       "\n",
       "\n",
       "mpl.figure.prototype.handle_resize = function(fig, msg) {\n",
       "    var size = msg['size'];\n",
       "    if (size[0] != fig.canvas.width || size[1] != fig.canvas.height) {\n",
       "        fig._resize_canvas(size[0], size[1]);\n",
       "        fig.send_message(\"refresh\", {});\n",
       "    };\n",
       "}\n",
       "\n",
       "mpl.figure.prototype.handle_rubberband = function(fig, msg) {\n",
       "    var x0 = msg['x0'] / mpl.ratio;\n",
       "    var y0 = (fig.canvas.height - msg['y0']) / mpl.ratio;\n",
       "    var x1 = msg['x1'] / mpl.ratio;\n",
       "    var y1 = (fig.canvas.height - msg['y1']) / mpl.ratio;\n",
       "    x0 = Math.floor(x0) + 0.5;\n",
       "    y0 = Math.floor(y0) + 0.5;\n",
       "    x1 = Math.floor(x1) + 0.5;\n",
       "    y1 = Math.floor(y1) + 0.5;\n",
       "    var min_x = Math.min(x0, x1);\n",
       "    var min_y = Math.min(y0, y1);\n",
       "    var width = Math.abs(x1 - x0);\n",
       "    var height = Math.abs(y1 - y0);\n",
       "\n",
       "    fig.rubberband_context.clearRect(\n",
       "        0, 0, fig.canvas.width, fig.canvas.height);\n",
       "\n",
       "    fig.rubberband_context.strokeRect(min_x, min_y, width, height);\n",
       "}\n",
       "\n",
       "mpl.figure.prototype.handle_figure_label = function(fig, msg) {\n",
       "    // Updates the figure title.\n",
       "    fig.header.textContent = msg['label'];\n",
       "}\n",
       "\n",
       "mpl.figure.prototype.handle_cursor = function(fig, msg) {\n",
       "    var cursor = msg['cursor'];\n",
       "    switch(cursor)\n",
       "    {\n",
       "    case 0:\n",
       "        cursor = 'pointer';\n",
       "        break;\n",
       "    case 1:\n",
       "        cursor = 'default';\n",
       "        break;\n",
       "    case 2:\n",
       "        cursor = 'crosshair';\n",
       "        break;\n",
       "    case 3:\n",
       "        cursor = 'move';\n",
       "        break;\n",
       "    }\n",
       "    fig.rubberband_canvas.style.cursor = cursor;\n",
       "}\n",
       "\n",
       "mpl.figure.prototype.handle_message = function(fig, msg) {\n",
       "    fig.message.textContent = msg['message'];\n",
       "}\n",
       "\n",
       "mpl.figure.prototype.handle_draw = function(fig, msg) {\n",
       "    // Request the server to send over a new figure.\n",
       "    fig.send_draw_message();\n",
       "}\n",
       "\n",
       "mpl.figure.prototype.handle_image_mode = function(fig, msg) {\n",
       "    fig.image_mode = msg['mode'];\n",
       "}\n",
       "\n",
       "mpl.figure.prototype.updated_canvas_event = function() {\n",
       "    // Called whenever the canvas gets updated.\n",
       "    this.send_message(\"ack\", {});\n",
       "}\n",
       "\n",
       "// A function to construct a web socket function for onmessage handling.\n",
       "// Called in the figure constructor.\n",
       "mpl.figure.prototype._make_on_message_function = function(fig) {\n",
       "    return function socket_on_message(evt) {\n",
       "        if (evt.data instanceof Blob) {\n",
       "            /* FIXME: We get \"Resource interpreted as Image but\n",
       "             * transferred with MIME type text/plain:\" errors on\n",
       "             * Chrome.  But how to set the MIME type?  It doesn't seem\n",
       "             * to be part of the websocket stream */\n",
       "            evt.data.type = \"image/png\";\n",
       "\n",
       "            /* Free the memory for the previous frames */\n",
       "            if (fig.imageObj.src) {\n",
       "                (window.URL || window.webkitURL).revokeObjectURL(\n",
       "                    fig.imageObj.src);\n",
       "            }\n",
       "\n",
       "            fig.imageObj.src = (window.URL || window.webkitURL).createObjectURL(\n",
       "                evt.data);\n",
       "            fig.updated_canvas_event();\n",
       "            fig.waiting = false;\n",
       "            return;\n",
       "        }\n",
       "        else if (typeof evt.data === 'string' && evt.data.slice(0, 21) == \"data:image/png;base64\") {\n",
       "            fig.imageObj.src = evt.data;\n",
       "            fig.updated_canvas_event();\n",
       "            fig.waiting = false;\n",
       "            return;\n",
       "        }\n",
       "\n",
       "        var msg = JSON.parse(evt.data);\n",
       "        var msg_type = msg['type'];\n",
       "\n",
       "        // Call the  \"handle_{type}\" callback, which takes\n",
       "        // the figure and JSON message as its only arguments.\n",
       "        try {\n",
       "            var callback = fig[\"handle_\" + msg_type];\n",
       "        } catch (e) {\n",
       "            console.log(\"No handler for the '\" + msg_type + \"' message type: \", msg);\n",
       "            return;\n",
       "        }\n",
       "\n",
       "        if (callback) {\n",
       "            try {\n",
       "                // console.log(\"Handling '\" + msg_type + \"' message: \", msg);\n",
       "                callback(fig, msg);\n",
       "            } catch (e) {\n",
       "                console.log(\"Exception inside the 'handler_\" + msg_type + \"' callback:\", e, e.stack, msg);\n",
       "            }\n",
       "        }\n",
       "    };\n",
       "}\n",
       "\n",
       "// from http://stackoverflow.com/questions/1114465/getting-mouse-location-in-canvas\n",
       "mpl.findpos = function(e) {\n",
       "    //this section is from http://www.quirksmode.org/js/events_properties.html\n",
       "    var targ;\n",
       "    if (!e)\n",
       "        e = window.event;\n",
       "    if (e.target)\n",
       "        targ = e.target;\n",
       "    else if (e.srcElement)\n",
       "        targ = e.srcElement;\n",
       "    if (targ.nodeType == 3) // defeat Safari bug\n",
       "        targ = targ.parentNode;\n",
       "\n",
       "    // jQuery normalizes the pageX and pageY\n",
       "    // pageX,Y are the mouse positions relative to the document\n",
       "    // offset() returns the position of the element relative to the document\n",
       "    var x = e.pageX - $(targ).offset().left;\n",
       "    var y = e.pageY - $(targ).offset().top;\n",
       "\n",
       "    return {\"x\": x, \"y\": y};\n",
       "};\n",
       "\n",
       "/*\n",
       " * return a copy of an object with only non-object keys\n",
       " * we need this to avoid circular references\n",
       " * http://stackoverflow.com/a/24161582/3208463\n",
       " */\n",
       "function simpleKeys (original) {\n",
       "  return Object.keys(original).reduce(function (obj, key) {\n",
       "    if (typeof original[key] !== 'object')\n",
       "        obj[key] = original[key]\n",
       "    return obj;\n",
       "  }, {});\n",
       "}\n",
       "\n",
       "mpl.figure.prototype.mouse_event = function(event, name) {\n",
       "    var canvas_pos = mpl.findpos(event)\n",
       "\n",
       "    if (name === 'button_press')\n",
       "    {\n",
       "        this.canvas.focus();\n",
       "        this.canvas_div.focus();\n",
       "    }\n",
       "\n",
       "    var x = canvas_pos.x * mpl.ratio;\n",
       "    var y = canvas_pos.y * mpl.ratio;\n",
       "\n",
       "    this.send_message(name, {x: x, y: y, button: event.button,\n",
       "                             step: event.step,\n",
       "                             guiEvent: simpleKeys(event)});\n",
       "\n",
       "    /* This prevents the web browser from automatically changing to\n",
       "     * the text insertion cursor when the button is pressed.  We want\n",
       "     * to control all of the cursor setting manually through the\n",
       "     * 'cursor' event from matplotlib */\n",
       "    event.preventDefault();\n",
       "    return false;\n",
       "}\n",
       "\n",
       "mpl.figure.prototype._key_event_extra = function(event, name) {\n",
       "    // Handle any extra behaviour associated with a key event\n",
       "}\n",
       "\n",
       "mpl.figure.prototype.key_event = function(event, name) {\n",
       "\n",
       "    // Prevent repeat events\n",
       "    if (name == 'key_press')\n",
       "    {\n",
       "        if (event.which === this._key)\n",
       "            return;\n",
       "        else\n",
       "            this._key = event.which;\n",
       "    }\n",
       "    if (name == 'key_release')\n",
       "        this._key = null;\n",
       "\n",
       "    var value = '';\n",
       "    if (event.ctrlKey && event.which != 17)\n",
       "        value += \"ctrl+\";\n",
       "    if (event.altKey && event.which != 18)\n",
       "        value += \"alt+\";\n",
       "    if (event.shiftKey && event.which != 16)\n",
       "        value += \"shift+\";\n",
       "\n",
       "    value += 'k';\n",
       "    value += event.which.toString();\n",
       "\n",
       "    this._key_event_extra(event, name);\n",
       "\n",
       "    this.send_message(name, {key: value,\n",
       "                             guiEvent: simpleKeys(event)});\n",
       "    return false;\n",
       "}\n",
       "\n",
       "mpl.figure.prototype.toolbar_button_onclick = function(name) {\n",
       "    if (name == 'download') {\n",
       "        this.handle_save(this, null);\n",
       "    } else {\n",
       "        this.send_message(\"toolbar_button\", {name: name});\n",
       "    }\n",
       "};\n",
       "\n",
       "mpl.figure.prototype.toolbar_button_onmouseover = function(tooltip) {\n",
       "    this.message.textContent = tooltip;\n",
       "};\n",
       "mpl.toolbar_items = [[\"Home\", \"Reset original view\", \"fa fa-home icon-home\", \"home\"], [\"Back\", \"Back to  previous view\", \"fa fa-arrow-left icon-arrow-left\", \"back\"], [\"Forward\", \"Forward to next view\", \"fa fa-arrow-right icon-arrow-right\", \"forward\"], [\"\", \"\", \"\", \"\"], [\"Pan\", \"Pan axes with left mouse, zoom with right\", \"fa fa-arrows icon-move\", \"pan\"], [\"Zoom\", \"Zoom to rectangle\", \"fa fa-square-o icon-check-empty\", \"zoom\"], [\"\", \"\", \"\", \"\"], [\"Download\", \"Download plot\", \"fa fa-floppy-o icon-save\", \"download\"]];\n",
       "\n",
       "mpl.extensions = [\"eps\", \"jpeg\", \"pdf\", \"png\", \"ps\", \"raw\", \"svg\", \"tif\"];\n",
       "\n",
       "mpl.default_extension = \"png\";var comm_websocket_adapter = function(comm) {\n",
       "    // Create a \"websocket\"-like object which calls the given IPython comm\n",
       "    // object with the appropriate methods. Currently this is a non binary\n",
       "    // socket, so there is still some room for performance tuning.\n",
       "    var ws = {};\n",
       "\n",
       "    ws.close = function() {\n",
       "        comm.close()\n",
       "    };\n",
       "    ws.send = function(m) {\n",
       "        //console.log('sending', m);\n",
       "        comm.send(m);\n",
       "    };\n",
       "    // Register the callback with on_msg.\n",
       "    comm.on_msg(function(msg) {\n",
       "        //console.log('receiving', msg['content']['data'], msg);\n",
       "        // Pass the mpl event to the overriden (by mpl) onmessage function.\n",
       "        ws.onmessage(msg['content']['data'])\n",
       "    });\n",
       "    return ws;\n",
       "}\n",
       "\n",
       "mpl.mpl_figure_comm = function(comm, msg) {\n",
       "    // This is the function which gets called when the mpl process\n",
       "    // starts-up an IPython Comm through the \"matplotlib\" channel.\n",
       "\n",
       "    var id = msg.content.data.id;\n",
       "    // Get hold of the div created by the display call when the Comm\n",
       "    // socket was opened in Python.\n",
       "    var element = $(\"#\" + id);\n",
       "    var ws_proxy = comm_websocket_adapter(comm)\n",
       "\n",
       "    function ondownload(figure, format) {\n",
       "        window.open(figure.imageObj.src);\n",
       "    }\n",
       "\n",
       "    var fig = new mpl.figure(id, ws_proxy,\n",
       "                           ondownload,\n",
       "                           element.get(0));\n",
       "\n",
       "    // Call onopen now - mpl needs it, as it is assuming we've passed it a real\n",
       "    // web socket which is closed, not our websocket->open comm proxy.\n",
       "    ws_proxy.onopen();\n",
       "\n",
       "    fig.parent_element = element.get(0);\n",
       "    fig.cell_info = mpl.find_output_cell(\"<div id='\" + id + \"'></div>\");\n",
       "    if (!fig.cell_info) {\n",
       "        console.error(\"Failed to find cell for figure\", id, fig);\n",
       "        return;\n",
       "    }\n",
       "\n",
       "    var output_index = fig.cell_info[2]\n",
       "    var cell = fig.cell_info[0];\n",
       "\n",
       "};\n",
       "\n",
       "mpl.figure.prototype.handle_close = function(fig, msg) {\n",
       "    var width = fig.canvas.width/mpl.ratio\n",
       "    fig.root.unbind('remove')\n",
       "\n",
       "    // Update the output cell to use the data from the current canvas.\n",
       "    fig.push_to_output();\n",
       "    var dataURL = fig.canvas.toDataURL();\n",
       "    // Re-enable the keyboard manager in IPython - without this line, in FF,\n",
       "    // the notebook keyboard shortcuts fail.\n",
       "    IPython.keyboard_manager.enable()\n",
       "    $(fig.parent_element).html('<img src=\"' + dataURL + '\" width=\"' + width + '\">');\n",
       "    fig.close_ws(fig, msg);\n",
       "}\n",
       "\n",
       "mpl.figure.prototype.close_ws = function(fig, msg){\n",
       "    fig.send_message('closing', msg);\n",
       "    // fig.ws.close()\n",
       "}\n",
       "\n",
       "mpl.figure.prototype.push_to_output = function(remove_interactive) {\n",
       "    // Turn the data on the canvas into data in the output cell.\n",
       "    var width = this.canvas.width/mpl.ratio\n",
       "    var dataURL = this.canvas.toDataURL();\n",
       "    this.cell_info[1]['text/html'] = '<img src=\"' + dataURL + '\" width=\"' + width + '\">';\n",
       "}\n",
       "\n",
       "mpl.figure.prototype.updated_canvas_event = function() {\n",
       "    // Tell IPython that the notebook contents must change.\n",
       "    IPython.notebook.set_dirty(true);\n",
       "    this.send_message(\"ack\", {});\n",
       "    var fig = this;\n",
       "    // Wait a second, then push the new image to the DOM so\n",
       "    // that it is saved nicely (might be nice to debounce this).\n",
       "    setTimeout(function () { fig.push_to_output() }, 1000);\n",
       "}\n",
       "\n",
       "mpl.figure.prototype._init_toolbar = function() {\n",
       "    var fig = this;\n",
       "\n",
       "    var nav_element = $('<div/>')\n",
       "    nav_element.attr('style', 'width: 100%');\n",
       "    this.root.append(nav_element);\n",
       "\n",
       "    // Define a callback function for later on.\n",
       "    function toolbar_event(event) {\n",
       "        return fig.toolbar_button_onclick(event['data']);\n",
       "    }\n",
       "    function toolbar_mouse_event(event) {\n",
       "        return fig.toolbar_button_onmouseover(event['data']);\n",
       "    }\n",
       "\n",
       "    for(var toolbar_ind in mpl.toolbar_items){\n",
       "        var name = mpl.toolbar_items[toolbar_ind][0];\n",
       "        var tooltip = mpl.toolbar_items[toolbar_ind][1];\n",
       "        var image = mpl.toolbar_items[toolbar_ind][2];\n",
       "        var method_name = mpl.toolbar_items[toolbar_ind][3];\n",
       "\n",
       "        if (!name) { continue; };\n",
       "\n",
       "        var button = $('<button class=\"btn btn-default\" href=\"#\" title=\"' + name + '\"><i class=\"fa ' + image + ' fa-lg\"></i></button>');\n",
       "        button.click(method_name, toolbar_event);\n",
       "        button.mouseover(tooltip, toolbar_mouse_event);\n",
       "        nav_element.append(button);\n",
       "    }\n",
       "\n",
       "    // Add the status bar.\n",
       "    var status_bar = $('<span class=\"mpl-message\" style=\"text-align:right; float: right;\"/>');\n",
       "    nav_element.append(status_bar);\n",
       "    this.message = status_bar[0];\n",
       "\n",
       "    // Add the close button to the window.\n",
       "    var buttongrp = $('<div class=\"btn-group inline pull-right\"></div>');\n",
       "    var button = $('<button class=\"btn btn-mini btn-primary\" href=\"#\" title=\"Stop Interaction\"><i class=\"fa fa-power-off icon-remove icon-large\"></i></button>');\n",
       "    button.click(function (evt) { fig.handle_close(fig, {}); } );\n",
       "    button.mouseover('Stop Interaction', toolbar_mouse_event);\n",
       "    buttongrp.append(button);\n",
       "    var titlebar = this.root.find($('.ui-dialog-titlebar'));\n",
       "    titlebar.prepend(buttongrp);\n",
       "}\n",
       "\n",
       "mpl.figure.prototype._root_extra_style = function(el){\n",
       "    var fig = this\n",
       "    el.on(\"remove\", function(){\n",
       "\tfig.close_ws(fig, {});\n",
       "    });\n",
       "}\n",
       "\n",
       "mpl.figure.prototype._canvas_extra_style = function(el){\n",
       "    // this is important to make the div 'focusable\n",
       "    el.attr('tabindex', 0)\n",
       "    // reach out to IPython and tell the keyboard manager to turn it's self\n",
       "    // off when our div gets focus\n",
       "\n",
       "    // location in version 3\n",
       "    if (IPython.notebook.keyboard_manager) {\n",
       "        IPython.notebook.keyboard_manager.register_events(el);\n",
       "    }\n",
       "    else {\n",
       "        // location in version 2\n",
       "        IPython.keyboard_manager.register_events(el);\n",
       "    }\n",
       "\n",
       "}\n",
       "\n",
       "mpl.figure.prototype._key_event_extra = function(event, name) {\n",
       "    var manager = IPython.notebook.keyboard_manager;\n",
       "    if (!manager)\n",
       "        manager = IPython.keyboard_manager;\n",
       "\n",
       "    // Check for shift+enter\n",
       "    if (event.shiftKey && event.which == 13) {\n",
       "        this.canvas_div.blur();\n",
       "        event.shiftKey = false;\n",
       "        // Send a \"J\" for go to next cell\n",
       "        event.which = 74;\n",
       "        event.keyCode = 74;\n",
       "        manager.command_mode();\n",
       "        manager.handle_keydown(event);\n",
       "    }\n",
       "}\n",
       "\n",
       "mpl.figure.prototype.handle_save = function(fig, msg) {\n",
       "    fig.ondownload(fig, null);\n",
       "}\n",
       "\n",
       "\n",
       "mpl.find_output_cell = function(html_output) {\n",
       "    // Return the cell and output element which can be found *uniquely* in the notebook.\n",
       "    // Note - this is a bit hacky, but it is done because the \"notebook_saving.Notebook\"\n",
       "    // IPython event is triggered only after the cells have been serialised, which for\n",
       "    // our purposes (turning an active figure into a static one), is too late.\n",
       "    var cells = IPython.notebook.get_cells();\n",
       "    var ncells = cells.length;\n",
       "    for (var i=0; i<ncells; i++) {\n",
       "        var cell = cells[i];\n",
       "        if (cell.cell_type === 'code'){\n",
       "            for (var j=0; j<cell.output_area.outputs.length; j++) {\n",
       "                var data = cell.output_area.outputs[j];\n",
       "                if (data.data) {\n",
       "                    // IPython >= 3 moved mimebundle to data attribute of output\n",
       "                    data = data.data;\n",
       "                }\n",
       "                if (data['text/html'] == html_output) {\n",
       "                    return [cell, data, j];\n",
       "                }\n",
       "            }\n",
       "        }\n",
       "    }\n",
       "}\n",
       "\n",
       "// Register the function which deals with the matplotlib target/channel.\n",
       "// The kernel may be null if the page has been refreshed.\n",
       "if (IPython.notebook.kernel != null) {\n",
       "    IPython.notebook.kernel.comm_manager.register_target('matplotlib', mpl.mpl_figure_comm);\n",
       "}\n"
      ],
      "text/plain": [
       "<IPython.core.display.Javascript object>"
      ]
     },
     "metadata": {},
     "output_type": "display_data"
    },
    {
     "data": {
      "text/html": [
       "<img src=\"data:image/png;base64,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\" width=\"640\">"
      ],
      "text/plain": [
       "<IPython.core.display.HTML object>"
      ]
     },
     "metadata": {},
     "output_type": "display_data"
    }
   ],
   "source": [
    "def stellar_mass_to_vmag(mass):\n",
    "    return numpy.interp(-mass, -table_mass, table_vmag)\n",
    "%matplotlib notebook\n",
    "pylab.semilogx(table_mass, table_vmag,'.')\n",
    "pylab.semilogx(table_mass, stellar_mass_to_vmag(table_mass));"
   ]
  },
  {
   "cell_type": "code",
   "execution_count": 20,
   "metadata": {
    "collapsed": true
   },
   "outputs": [],
   "source": [
    "def absolute_to_apparent_magnitude(absolute, d_pc, extinction=False):\n",
    "    if extinction:\n",
    "        return absolute+5*(numpy.log10(d_pc)-1)+d_pc/1e3\n",
    "    return absolute+5*(numpy.log10(d_pc)-1)"
   ]
  },
  {
   "cell_type": "markdown",
   "metadata": {},
   "source": [
    "Gaia Sensitivity (section 8 in Gaia paper)"
   ]
  },
  {
   "cell_type": "code",
   "execution_count": 21,
   "metadata": {
    "collapsed": true
   },
   "outputs": [],
   "source": [
    "def calc_gaia_z12p09(gmag):\n",
    "    \n",
    "    capped_gmag = numpy.clip(gmag, 12, 200)\n",
    "    return numpy.clip(10**(0.4*(capped_gmag-15)),10**(0.4*(12.09-15)),1e30)\n",
    "\n",
    "def calc_sigma_pomega(gmag):\n",
    "    \n",
    "    z = calc_gaia_z12p09(gmag)\n",
    "    return numpy.sqrt(-1.63+680.8*z+32.7*z**2)\n",
    "\n",
    "def calc_sigma_G(gmag):\n",
    "    \n",
    "    z = calc_gaia_z12p09(gmag)\n",
    "    return 1.2e-3*numpy.sqrt(0.05*z**2+1.9*z+0.0002)"
   ]
  },
  {
   "cell_type": "markdown",
   "metadata": {},
   "source": [
    "Synthetic stellar population"
   ]
  },
  {
   "cell_type": "code",
   "execution_count": 59,
   "metadata": {
    "collapsed": true
   },
   "outputs": [],
   "source": [
    "ssp = {'primary mass':randomise_salpeter_bh_progenitor_mass(int(1e6))}\n",
    "ssp['initial mass ratio'] = randomise_mass_ratio(ssp['primary mass'])\n",
    "ssp['companion mass'] = ssp['primary mass']*ssp['initial mass ratio']\n",
    "ssp['initial semi major axis'] = randomise_semi_major_axis(ssp['primary mass'])\n",
    "ssp['z'] = randomise_height_above_galactic_disc(ssp['primary mass'])\n",
    "ssp['r'] = randomise_distance_from_galactic_centre(ssp['primary mass'])\n",
    "ssp['angle'] = randomise_angle_gc_sol(ssp['primary mass'])\n",
    "ssp['black hole mass'] = calc_terminal_black_hole_mass(ssp['primary mass'])\n",
    "ssp['terminal mass ratio'] = ssp['black hole mass']/ssp['companion mass']\n",
    "ssp['age'] = numpy.random.rand(len(ssp['primary mass'])) # Age / galactic age\n",
    "ssp['lifetime'] = ssp['companion mass']**-2.5 - ssp['primary mass']**-2.5 # Normalised by the age of the galaxy\n",
    "ssp['companion mass'] = ssp['primary mass']*ssp['initial mass ratio']\n",
    "ssp['companion radius'] = mass2radius_demircan_kahraman(ssp['companion mass'])\n",
    "ssp['initial primary radius'] = mass2radius_demircan_kahraman(ssp['primary mass'])\n",
    "ssp['initial roche radius'] = roche_lobe_radius_ratio(ssp['initial mass ratio'])*ssp['initial primary radius']\n",
    "ssp['terminal roche radius'] = roche_lobe_radius_ratio(1.0/ssp['terminal mass ratio'])*ssp['companion radius']\n",
    "ssp['terminal semi major axis'] = numpy.where(ssp['initial mass ratio'] > 0.5,\n",
    "                                              calc_current_semi_major_axis_massive(ssp['initial mass ratio']),\n",
    "                                              calc_current_semi_major_axis_wimpy(ssp['initial mass ratio'],\n",
    "                                                                                ssp['initial roche radius']/\n",
    "                                                                                 ssp['initial semi major axis']))\n",
    "ssp['terminal period'] = 9.4e7*(ssp['terminal semi major axis']**1.5*\n",
    "                                ssp['primary mass']**-0.5*\n",
    "                                (0.2+ssp['initial mass ratio'])**-0.5)\n",
    "ssp['companion absolute magnitude'] = stellar_mass_to_vmag(ssp['primary mass']*ssp['initial mass ratio'])\n",
    "ssp['distance from earth'] = numpy.sqrt(ssp['z']**2+8000**2+ssp['r']**2-2*8000*ssp['r']*numpy.cos(ssp['angle']))\n",
    "ssp['companion apparent magnitude'] = absolute_to_apparent_magnitude(ssp['companion absolute magnitude'],\n",
    "                                                                     ssp['distance from earth'],\n",
    "                                                                    extinction=True)\n",
    "ssp['sigma pomega'] = calc_sigma_pomega(ssp['companion apparent magnitude'])\n",
    "ssp['parallax'] = 1e6/ssp['distance from earth'] # in uas\n",
    "ssp['sigma G'] = calc_sigma_G(ssp['companion apparent magnitude'])"
   ]
  },
  {
   "cell_type": "markdown",
   "metadata": {},
   "source": [
    "Count how many will be visible by Gaia"
   ]
  },
  {
   "cell_type": "code",
   "execution_count": 60,
   "metadata": {},
   "outputs": [
    {
     "name": "stdout",
     "output_type": "stream",
     "text": [
      "50131\n",
      "42249\n",
      "16635\n",
      "6643\n",
      "6602\n",
      "160\n"
     ]
    },
    {
     "data": {
      "text/plain": [
       "29"
      ]
     },
     "execution_count": 60,
     "metadata": {},
     "output_type": "execute_result"
    }
   ],
   "source": [
    "valid_list = ssp['lifetime'] > ssp['age']\n",
    "print(valid_list.sum())\n",
    "valid_list = numpy.logical_and(valid_list,\n",
    "                              ssp['terminal semi major axis']>ssp['terminal roche radius'])\n",
    "print(valid_list.sum())\n",
    "valid_list = numpy.logical_and(valid_list,\n",
    "                              ssp['terminal period']<5)\n",
    "print(valid_list.sum())\n",
    "valid_list = numpy.logical_and(valid_list,\n",
    "                              ssp['terminal period']>0.137)\n",
    "print(valid_list.sum())\n",
    "valid_list = numpy.logical_and(valid_list,\n",
    "                              ssp['black hole mass']>3.0/(1.0-ssp['sigma pomega']/ssp['parallax']-ssp['sigma G']-ssp['sigma pomega']*ssp['distance from earth']/2e11/ssp['terminal semi major axis']))\n",
    "print(valid_list.sum())\n",
    "valid_list = numpy.logical_and(valid_list,\n",
    "                              ssp['companion apparent magnitude']<20)\n",
    "print(valid_list.sum())\n",
    "valid_list = numpy.logical_and(valid_list,\n",
    "                              ssp['terminal semi major axis']>\n",
    "                               10*(1+ssp['initial mass ratio']/0.2)*ssp['sigma pomega']*ssp['distance from earth']*5e-12)\n",
    "valid_list.sum()"
   ]
  },
  {
   "cell_type": "markdown",
   "metadata": {},
   "source": [
    "Statistics of detected black holes - luminous companion binaries"
   ]
  },
  {
   "cell_type": "code",
   "execution_count": 54,
   "metadata": {},
   "outputs": [
    {
     "data": {
      "image/png": "[encoded data removed]",
      "text/plain": [
       "<matplotlib.figure.Figure at 0x7f3594868550>"
      ]
     },
     "metadata": {},
     "output_type": "display_data"
    }
   ],
   "source": [
    "%matplotlib inline\n",
    "pylab.plot(ssp['black hole mass'][valid_list],\n",
    "          ssp['companion mass'][valid_list], '.')\n",
    "pylab.xlabel('Black hole mass [$M_{\\odot}$]')\n",
    "pylab.ylabel('Companion mass [$M_{\\odot}$]');"
   ]
  },
  {
   "cell_type": "code",
   "execution_count": 55,
   "metadata": {},
   "outputs": [
    {
     "data": {
      "image/png": "[encoded data removed]",
      "text/plain": [
       "<matplotlib.figure.Figure at 0x7f3594868b38>"
      ]
     },
     "metadata": {},
     "output_type": "display_data"
    }
   ],
   "source": [
    "%matplotlib inline\n",
    "pylab.hist(ssp['black hole mass'][valid_list])\n",
    "pylab.xlabel('Black hole mass [$M_{\\odot}$]');"
   ]
  },
  {
   "cell_type": "code",
   "execution_count": 56,
   "metadata": {},
   "outputs": [
    {
     "data": {
      "image/png": "[encoded data removed]",
      "text/plain": [
       "<matplotlib.figure.Figure at 0x7f356d4a9278>"
      ]
     },
     "metadata": {},
     "output_type": "display_data"
    }
   ],
   "source": [
    "%matplotlib inline\n",
    "pylab.hist(ssp['distance from earth'][valid_list])\n",
    "pylab.xlabel('Distance from Earth [pc]');"
   ]
  },
  {
   "cell_type": "code",
   "execution_count": null,
   "metadata": {
    "collapsed": true
   },
   "outputs": [],
   "source": []
  }
 ],
 "metadata": {
  "kernelspec": {
   "display_name": "Python 3",
   "language": "python",
   "name": "python3"
  },
  "language_info": {
   "codemirror_mode": {
    "name": "ipython",
    "version": 3
   },
   "file_extension": ".py",
   "mimetype": "text/x-python",
   "name": "python",
   "nbconvert_exporter": "python",
   "pygments_lexer": "ipython3",
   "version": "3.6.1"
  }
 },
 "nbformat": 4,
 "nbformat_minor": 2
}
