{
 "cells": [
  {
   "cell_type": "markdown",
   "metadata": {},
   "source": [
    "# Introduction"
   ]
  },
  {
   "cell_type": "markdown",
   "metadata": {},
   "source": [
    "[Yamaguchi et al 2017](http://adsabs.harvard.edu/cgi-bin/bib_query?arXiv:1710.09839) estimated the number of binaries with a black hole and a stellar companion which will be detected by the [Gaia mission](http://sci.esa.int/gaia/). In this notebook we want to check whether their model reproduces the non detection of such binaries by the [hipparcos mission](http://sci.esa.int/hipparcos/)."
   ]
  },
  {
   "cell_type": "markdown",
   "metadata": {},
   "source": [
    "Loading libraries and setting up environment"
   ]
  },
  {
   "cell_type": "code",
   "execution_count": 66,
   "metadata": {
    "collapsed": true
   },
   "outputs": [],
   "source": [
    "import sympy\n",
    "import numpy\n",
    "sympy.init_printing()"
   ]
  },
  {
   "cell_type": "markdown",
   "metadata": {},
   "source": [
    "# Reproducing Paper Results"
   ]
  },
  {
   "cell_type": "markdown",
   "metadata": {},
   "source": [
    "As a first step, we try to reproduce the results in the paper, specifically, table 2. We start with the integrand of the huge integral in equation 15."
   ]
  },
  {
   "cell_type": "code",
   "execution_count": 43,
   "metadata": {},
   "outputs": [
    {
     "data": {
      "image/png": "[encoded data removed]",
      "text/latex": [
       "$$\\frac{2 D^{2} \\Gamma_{0} \\Phi f_{bin} \\rho_{d} \\cos{\\left (b \\right )}}{\\overline{A} \\left(- f_{bin} + 1\\right)} \\left(- t_{L,1} + t_{L,2}\\right)$$"
      ],
      "text/plain": [
       "   2                                           \n",
       "2⋅D ⋅Γ₀⋅Φ⋅f_bin⋅ρ_d⋅(-t_{L,1} + t_{L,2})⋅cos(b)\n",
       "───────────────────────────────────────────────\n",
       "           \\overline{A}⋅(-f_bin + 1)           "
      ]
     },
     "execution_count": 43,
     "metadata": {},
     "output_type": "execute_result"
    }
   ],
   "source": [
    "f_bin = sympy.Symbol('f_bin') # Binary fraction\n",
    "Gamma_0 = sympy.Symbol('Gamma_0') # Slope of binary separation pdf\n",
    "Phi = sympy.Symbol('Phi') # Mass ratio distribution\n",
    "t_L1 = sympy.Symbol(r't_{L,1}') # Lifetime of the star that collapsed to a black hole\n",
    "t_L2 = sympy.Symbol(r't_{L,2}') # Lifetime of the companion\n",
    "A_bar = sympy.Symbol('\\overline{A}') # Separation between stars\n",
    "b = sympy.Symbol('b') # Viewing angle relative to galactic plane\n",
    "D = sympy.Symbol('D') # Distance from Earth\n",
    "rho_d = sympy.Symbol('rho_d') # Star formation number density\n",
    "eqn_15_integrand_raw = (2*f_bin/(1-f_bin))*Gamma_0*Phi*(t_L2-t_L1)*(1/A_bar)*sympy.cos(b)*D**2*rho_d\n",
    "eqn_15_integrand_raw"
   ]
  },
  {
   "cell_type": "markdown",
   "metadata": {},
   "source": [
    "## Spatial distribution of stars"
   ]
  },
  {
   "cell_type": "markdown",
   "metadata": {
    "collapsed": true
   },
   "source": [
    "Bahcall Soniera star formation number density (equation 11)"
   ]
  },
  {
   "cell_type": "code",
   "execution_count": 44,
   "metadata": {},
   "outputs": [
    {
     "data": {
      "image/png": "[encoded data removed]",
      "text/latex": [
       "$$\\rho_{d} = \\Psi \\rho_{d,0} e^{- \\frac{z}{h_{z}} - \\frac{1}{h_{r}} \\left(- r_{0} + x\\right)}$$"
      ],
      "text/plain": [
       "                       z    -r₀ + x\n",
       "                    - ─── - ───────\n",
       "                      h_z      hᵣ  \n",
       "ρ_d = Ψ⋅\\rho_{d,0}⋅ℯ               "
      ]
     },
     "execution_count": 44,
     "metadata": {},
     "output_type": "execute_result"
    }
   ],
   "source": [
    "Psi = sympy.Symbol('Psi')\n",
    "rho_d0 = sympy.Symbol(r'\\rho_{d,0}') # Normalisation factor\n",
    "z = sympy.Symbol('z') # Distance from the galactic plane\n",
    "h_z = sympy.Symbol('h_z', positive=True) # Scale height of the galactic disc\n",
    "x = sympy.Symbol('x') # Distance from the rotational axis of the galaxy\n",
    "r_0 = sympy.Symbol('r_0') # Distance between the sun and the galactic centre\n",
    "h_r = sympy.Symbol('h_r', positive=True) # Scale radius of the galaxy\n",
    "eqn_11 = sympy.Eq(rho_d,Psi*rho_d0*sympy.exp(-z/h_z-(x-r_0)/h_r))\n",
    "eqn_11"
   ]
  },
  {
   "cell_type": "markdown",
   "metadata": {},
   "source": [
    "Definition of the normalisation (equation 12)"
   ]
  },
  {
   "cell_type": "code",
   "execution_count": 45,
   "metadata": {},
   "outputs": [
    {
     "data": {
      "image/png": "[encoded data removed]",
      "text/latex": [
       "$$\\rho_{d,0} = \\frac{e^{\\frac{z_{\\max}}{h_{z}} - \\frac{r_{0}}{h_{r}} + \\frac{x_{\\max}}{h_{r}}}}{4 \\pi h_{r} h_{z} \\left(- h_{r} e^{\\frac{x_{\\max}}{h_{r}}} - h_{r} e^{\\frac{z_{\\max}}{h_{z}}} + h_{r} e^{\\frac{z_{\\max}}{h_{z}} + \\frac{x_{\\max}}{h_{r}}} + h_{r} - x_{\\max} e^{\\frac{z_{\\max}}{h_{z}}} + x_{\\max}\\right)}$$"
      ],
      "text/plain": [
       "                                                      z_{\\max}   r₀   x_{\\max}\n",
       "                                                      ──────── - ── + ────────\n",
       "                                                        h_z      hᵣ      hᵣ   \n",
       "                                                     ℯ                        \n",
       "\\rho_{d,0} = ─────────────────────────────────────────────────────────────────\n",
       "                        ⎛      x_{\\max}       z_{\\max}       z_{\\max}   x_{\\ma\n",
       "                        ⎜      ────────       ────────       ──────── + ──────\n",
       "                        ⎜         hᵣ            h_z            h_z         hᵣ \n",
       "             4⋅π⋅hᵣ⋅h_z⋅⎝- hᵣ⋅ℯ         - hᵣ⋅ℯ         + hᵣ⋅ℯ                 \n",
       "\n",
       "                                        \n",
       "                                        \n",
       "                                        \n",
       "                                        \n",
       "────────────────────────────────────────\n",
       "x}                  z_{\\max}           ⎞\n",
       "──                  ────────           ⎟\n",
       "                      h_z              ⎟\n",
       "   + hᵣ - x_{\\max}⋅ℯ         + x_{\\max}⎠"
      ]
     },
     "execution_count": 45,
     "metadata": {},
     "output_type": "execute_result"
    }
   ],
   "source": [
    "x_max = sympy.Symbol(r'x_{\\max}')\n",
    "z_max = sympy.Symbol(r'z_{\\max}')\n",
    "temp = eqn_11.rhs/ Psi\n",
    "temp = sympy.integrate(4*sympy.pi*x*temp,(z,0,z_max),(x,0,x_max)).simplify()\n",
    "eqn_12 = sympy.Eq(rho_d0,sympy.solve(temp-1,rho_d0)[0])\n",
    "eqn_12"
   ]
  },
  {
   "cell_type": "markdown",
   "metadata": {},
   "source": [
    "Actually, the bounds $x_{\\max}$ and $z_{\\max}$ are not defined in the paper, so I assume $x_{\\max}, z_{\\max} \\rightarrow \\infty$"
   ]
  },
  {
   "cell_type": "code",
   "execution_count": 46,
   "metadata": {},
   "outputs": [
    {
     "data": {
      "image/png": "[encoded data removed]",
      "text/latex": [
       "$$\\rho_{d,0} = \\frac{e^{- \\frac{r_{0}}{h_{r}}}}{4 \\pi h_{r}^{2} h_{z}}$$"
      ],
      "text/plain": [
       "                 -r₀    \n",
       "                 ────   \n",
       "                  hᵣ    \n",
       "                ℯ       \n",
       "\\rho_{d,0} = ───────────\n",
       "                   2    \n",
       "             4⋅π⋅hᵣ ⋅h_z"
      ]
     },
     "execution_count": 46,
     "metadata": {},
     "output_type": "execute_result"
    }
   ],
   "source": [
    "temp = eqn_11.rhs/Psi*4*sympy.pi*x\n",
    "temp = sympy.integrate(temp, (z, 0, sympy.oo))\n",
    "temp = sympy.integrate(temp, (x, 0, sympy.oo))\n",
    "temp = sympy.solve(temp-1,rho_d0)[0]\n",
    "eqn_12_var = sympy.Eq(rho_d0, temp)\n",
    "eqn_12_var"
   ]
  },
  {
   "cell_type": "markdown",
   "metadata": {},
   "source": [
    "Geocentric coordinates"
   ]
  },
  {
   "cell_type": "code",
   "execution_count": 47,
   "metadata": {},
   "outputs": [
    {
     "data": {
      "image/png": "[encoded data removed]",
      "text/latex": [
       "$$x = \\sqrt{D^{2} \\cos^{2}{\\left (b \\right )} - 2 D r_{0} \\cos{\\left (b \\right )} \\cos{\\left (l \\right )} + r_{0}^{2}}$$"
      ],
      "text/plain": [
       "       _________________________________________\n",
       "      ╱  2    2                               2 \n",
       "x = ╲╱  D ⋅cos (b) - 2⋅D⋅r₀⋅cos(b)⋅cos(l) + r₀  "
      ]
     },
     "execution_count": 47,
     "metadata": {},
     "output_type": "execute_result"
    }
   ],
   "source": [
    "l = sympy.Symbol('l') # Viewing angle relative to the rotation axis of the galaxy\n",
    "eqn_13 = sympy.Eq(x,sympy.sqrt(r_0**2+D**2*sympy.cos(b)**2-2*D*r_0*sympy.cos(b)*sympy.cos(l)))\n",
    "eqn_13"
   ]
  },
  {
   "cell_type": "code",
   "execution_count": 48,
   "metadata": {},
   "outputs": [
    {
     "data": {
      "image/png": "[encoded data removed]",
      "text/latex": [
       "$$z = D \\sin{\\left (b \\right )}$$"
      ],
      "text/plain": [
       "z = D⋅sin(b)"
      ]
     },
     "execution_count": 48,
     "metadata": {},
     "output_type": "execute_result"
    }
   ],
   "source": [
    "eqn_14 = sympy.Eq(z, D*sympy.sin(b))\n",
    "eqn_14"
   ]
  },
  {
   "cell_type": "markdown",
   "metadata": {},
   "source": [
    "## Initial mass function"
   ]
  },
  {
   "cell_type": "code",
   "execution_count": 49,
   "metadata": {},
   "outputs": [
    {
     "data": {
      "image/png": "[encoded data removed]",
      "text/latex": [
       "$$\\Psi = \\begin{cases} \\frac{\\Psi_{1,a}}{\\overline{m}_1^{1.3}} & \\text{for}\\: \\overline{m}_1 > 0.08 \\wedge \\overline{m}_1 < 0.5 \\\\\\frac{\\Psi_{1,b}}{\\overline{m}_1^{2.3}} & \\text{for}\\: \\overline{m}_1 > 0.5 \\wedge \\overline{m}_1 < 100 \\\\0 & \\text{otherwise} \\end{cases}$$"
      ],
      "text/plain": [
       "    ⎧                        -1.3                                             \n",
       "    ⎪\\Psi_{1,a}⋅\\overline{m}₁      for \\overline{m}₁ > 0.08 ∧ \\overline{m}₁ < \n",
       "    ⎪                                                                         \n",
       "Ψ = ⎨                        -2.3                                             \n",
       "    ⎪\\Psi_{1,b}⋅\\overline{m}₁      for \\overline{m}₁ > 0.5 ∧ \\overline{m}₁ < 1\n",
       "    ⎪                                                                         \n",
       "    ⎩             0                                  otherwise                \n",
       "\n",
       "   \n",
       "0.5\n",
       "   \n",
       "   \n",
       "00 \n",
       "   \n",
       "   "
      ]
     },
     "execution_count": 49,
     "metadata": {},
     "output_type": "execute_result"
    }
   ],
   "source": [
    "Psi_1a = sympy.Symbol(r'\\Psi_{1,a}') # Coefficient\n",
    "Psi_1b = sympy.Symbol(r'\\Psi_{1,b}') # Coefficient\n",
    "M_sol = sympy.Symbol('M_{\\odot}')\n",
    "M_1_bar = sympy.Symbol(r'\\overline{M}_1')\n",
    "m_1_bar = sympy.Symbol(r'\\overline{m}_1') # M_1_bar divided by a solar mass\n",
    "temp = sympy.Piecewise((Psi_1a*m_1_bar**(-1.3), sympy.And(m_1_bar < 0.5, m_1_bar>0.08)),\n",
    "                       (Psi_1b*m_1_bar**(-2.3), sympy.And(m_1_bar>0.5, m_1_bar<100)),\n",
    "                      (0,True))\n",
    "eqn_1 = sympy.Eq(Psi, temp)\n",
    "eqn_1"
   ]
  },
  {
   "cell_type": "code",
   "execution_count": 50,
   "metadata": {},
   "outputs": [
    {
     "data": {
      "image/png": "[encoded data removed]",
      "text/latex": [
       "$$\\Psi = \\begin{cases} \\frac{\\Psi_{2,a}}{\\overline{m}_1^{1.3}} & \\text{for}\\: \\overline{m}_1 > 0.08 \\wedge \\overline{m}_1 < 0.5 \\\\\\frac{\\Psi_{2,b}}{\\overline{m}_1^{2.2}} & \\text{for}\\: \\overline{m}_1 > 0.5 \\wedge \\overline{m}_1 < 1 \\\\\\frac{\\Psi_{2,c}}{\\overline{m}_1^{2.7}} & \\text{for}\\: \\overline{m}_1 > 1.0 \\wedge \\overline{m}_1 < 100 \\\\0 & \\text{otherwise} \\end{cases}$$"
      ],
      "text/plain": [
       "    ⎧                        -1.3                                             \n",
       "    ⎪\\Psi_{2,a}⋅\\overline{m}₁      for \\overline{m}₁ > 0.08 ∧ \\overline{m}₁ < \n",
       "    ⎪                                                                         \n",
       "    ⎪                        -2.2                                             \n",
       "    ⎪\\Psi_{2,b}⋅\\overline{m}₁       for \\overline{m}₁ > 0.5 ∧ \\overline{m}₁ < \n",
       "Ψ = ⎨                                                                         \n",
       "    ⎪                        -2.7                                             \n",
       "    ⎪\\Psi_{2,c}⋅\\overline{m}₁      for \\overline{m}₁ > 1.0 ∧ \\overline{m}₁ < 1\n",
       "    ⎪                                                                         \n",
       "    ⎪             0                                  otherwise                \n",
       "    ⎩                                                                         \n",
       "\n",
       "   \n",
       "0.5\n",
       "   \n",
       "   \n",
       "1  \n",
       "   \n",
       "   \n",
       "00 \n",
       "   \n",
       "   \n",
       "   "
      ]
     },
     "execution_count": 50,
     "metadata": {},
     "output_type": "execute_result"
    }
   ],
   "source": [
    "Psi_2a = sympy.Symbol(r'\\Psi_{2,a}') # Coefficient\n",
    "Psi_2b = sympy.Symbol(r'\\Psi_{2,b}') # Coefficient\n",
    "Psi_2c = sympy.Symbol(r'\\Psi_{2,c}') # Coefficient\n",
    "temp = sympy.Piecewise((Psi_2a*m_1_bar**(-1.3), sympy.And(m_1_bar < 0.5, m_1_bar>0.08)),\n",
    "                       (Psi_2b*m_1_bar**(-2.2), sympy.And(m_1_bar>0.5, m_1_bar<1)),\n",
    "                      (Psi_2c*m_1_bar**(-2.7), sympy.And(m_1_bar>1.0, m_1_bar<100)),\n",
    "                      (0,True))\n",
    "eqn_2 = sympy.Eq(Psi,temp)\n",
    "eqn_2"
   ]
  },
  {
   "cell_type": "markdown",
   "metadata": {},
   "source": [
    "The coefficients can be determined by continuity and normalisation condition"
   ]
  },
  {
   "cell_type": "code",
   "execution_count": 51,
   "metadata": {},
   "outputs": [
    {
     "data": {
      "image/png": "[encoded data removed]",
      "text/latex": [
       "$$2.46229522865551 \\Psi_{1,a} = 4.92455500039721 \\Psi_{1,b}$$"
      ],
      "text/plain": [
       "2.46229522865551⋅\\Psi_{1,a} = 4.92455500039721⋅\\Psi_{1,b}"
      ]
     },
     "execution_count": 51,
     "metadata": {},
     "output_type": "execute_result"
    }
   ],
   "source": [
    "cond_1 = sympy.Eq(eqn_1.rhs.subs(m_1_bar,0.5-1e-6),eqn_1.rhs.subs(m_1_bar,0.5+1e-6))\n",
    "cond_1"
   ]
  },
  {
   "cell_type": "code",
   "execution_count": 52,
   "metadata": {},
   "outputs": [
    {
     "data": {
      "image/png": "[encoded data removed]",
      "text/latex": [
       "$$0.635567958905141 \\Psi_{1,a} + 3.26651676918235 \\Psi_{1,b} = \\Upsilon$$"
      ],
      "text/plain": [
       "0.635567958905141⋅\\Psi_{1,a} + 3.26651676918235⋅\\Psi_{1,b} = Υ"
      ]
     },
     "execution_count": 52,
     "metadata": {},
     "output_type": "execute_result"
    }
   ],
   "source": [
    "Upsilon = sympy.Symbol('Upsilon') # Star formation rate in the entire galaxy, roughly 3.5 M_sol/year\n",
    "temp = sympy.integrate(eqn_1.rhs*m_1_bar,m_1_bar)\n",
    "temp = ((temp.subs(m_1_bar, 0.5-1e-6) - temp.subs(m_1_bar, 0.08+1e-6))+\n",
    "        (temp.subs(m_1_bar, 100-1e-6) - temp.subs(m_1_bar, 0.5+1e-6)))\n",
    "cond_2 = sympy.Eq(temp, Upsilon)\n",
    "cond_2"
   ]
  },
  {
   "cell_type": "code",
   "execution_count": 53,
   "metadata": {},
   "outputs": [
    {
     "data": {
      "image/png": "[encoded data removed]",
      "text/latex": [
       "$$\\left \\{ \\Psi_{1,a} : 0.440754233931283 \\Upsilon, \\quad \\Psi_{1,b} : 0.220378703686156 \\Upsilon\\right \\}$$"
      ],
      "text/plain": [
       "{\\Psi_{1,a}: 0.440754233931283⋅Υ, \\Psi_{1,b}: 0.220378703686156⋅Υ}"
      ]
     },
     "execution_count": 53,
     "metadata": {},
     "output_type": "execute_result"
    }
   ],
   "source": [
    "eqn_1_coefficients = sympy.solve([cond_1, cond_2], [Psi_1a, Psi_1b])\n",
    "eqn_1_coefficients"
   ]
  },
  {
   "cell_type": "code",
   "execution_count": 54,
   "metadata": {},
   "outputs": [
    {
     "data": {
      "image/png": "[encoded data removed]",
      "text/latex": [
       "$$2.46229522865551 \\Psi_{2,a} = 4.59477320296179 \\Psi_{2,b}$$"
      ],
      "text/plain": [
       "2.46229522865551⋅\\Psi_{2,a} = 4.59477320296179⋅\\Psi_{2,b}"
      ]
     },
     "execution_count": 54,
     "metadata": {},
     "output_type": "execute_result"
    }
   ],
   "source": [
    "cond_3 = sympy.Eq(eqn_2.rhs.subs(m_1_bar,0.5-1e-6), eqn_2.rhs.subs(m_1_bar, 0.5+1e-6))\n",
    "cond_3"
   ]
  },
  {
   "cell_type": "code",
   "execution_count": 55,
   "metadata": {},
   "outputs": [
    {
     "data": {
      "image/png": "[encoded data removed]",
      "text/latex": [
       "$$1.00000220000352 \\Psi_{2,b} = 0.999997300004995 \\Psi_{2,c}$$"
      ],
      "text/plain": [
       "1.00000220000352⋅\\Psi_{2,b} = 0.999997300004995⋅\\Psi_{2,c}"
      ]
     },
     "execution_count": 55,
     "metadata": {},
     "output_type": "execute_result"
    }
   ],
   "source": [
    "cond_4 = sympy.Eq(eqn_2.rhs.subs(m_1_bar,1-1e-6), eqn_2.rhs.subs(m_1_bar, 1+1e-6))\n",
    "cond_4"
   ]
  },
  {
   "cell_type": "code",
   "execution_count": 56,
   "metadata": {},
   "outputs": [
    {
     "data": {
      "image/png": "[encoded data removed]",
      "text/latex": [
       "$$0.635567958905141 \\Psi_{2,a} + 0.743488477590622 \\Psi_{2,b} + 1.37169797523796 \\Psi_{2,c} = \\Upsilon$$"
      ],
      "text/plain": [
       "0.635567958905141⋅\\Psi_{2,a} + 0.743488477590622⋅\\Psi_{2,b} + 1.37169797523796\n",
       "⋅\\Psi_{2,c} = Υ"
      ]
     },
     "execution_count": 56,
     "metadata": {},
     "output_type": "execute_result"
    }
   ],
   "source": [
    "temp = sympy.integrate(eqn_2.rhs*m_1_bar, m_1_bar)\n",
    "temp = ((temp.subs(m_1_bar,0.5-1e-6) - temp.subs(m_1_bar,0.08+1e-6))+\n",
    "       (temp.subs(m_1_bar,1.0-1e-6) - temp.subs(m_1_bar,0.5+1e-6))+\n",
    "       (temp.subs(m_1_bar,100-1e-6) - temp.subs(m_1_bar,1+1e-6)))\n",
    "cond_5 = sympy.Eq(temp, Upsilon)\n",
    "cond_5"
   ]
  },
  {
   "cell_type": "code",
   "execution_count": 57,
   "metadata": {},
   "outputs": [
    {
     "data": {
      "image/png": "[encoded data removed]",
      "text/latex": [
       "$$\\left \\{ \\Psi_{2,a} : 0.565265609829508 \\Upsilon, \\quad \\Psi_{2,b} : 0.302920460385087 \\Upsilon, \\quad \\Psi_{2,c} : 0.302921944698903 \\Upsilon\\right \\}$$"
      ],
      "text/plain": [
       "{\\Psi_{2,a}: 0.565265609829508⋅Υ, \\Psi_{2,b}: 0.302920460385087⋅Υ, \\Psi_{2,c}:\n",
       " 0.302921944698903⋅Υ}"
      ]
     },
     "execution_count": 57,
     "metadata": {},
     "output_type": "execute_result"
    }
   ],
   "source": [
    "eqn_2_coefficients = sympy.solve([cond_3, cond_4, cond_5], [Psi_2a, Psi_2b, Psi_2c])\n",
    "eqn_2_coefficients"
   ]
  },
  {
   "cell_type": "markdown",
   "metadata": {},
   "source": [
    "## Distribution of mass ratios"
   ]
  },
  {
   "cell_type": "code",
   "execution_count": 58,
   "metadata": {},
   "outputs": [
    {
     "data": {
      "image/png": "[encoded data removed]",
      "text/latex": [
       "$$\\Phi = \\frac{1}{1 - \\frac{\\overline{M}_{\\min}}{\\overline{M}_1}}$$"
      ],
      "text/plain": [
       "               1           \n",
       "Φ = ───────────────────────\n",
       "        \\overline{M}_{\\min}\n",
       "    1 - ───────────────────\n",
       "           \\overline{M}₁   "
      ]
     },
     "execution_count": 58,
     "metadata": {},
     "output_type": "execute_result"
    }
   ],
   "source": [
    "M_min_bar = sympy.Symbol(r'\\overline{M}_{\\min}')\n",
    "eqn_3 = sympy.Eq(Phi, 1/(1-M_min_bar/M_1_bar))\n",
    "eqn_3"
   ]
  },
  {
   "cell_type": "markdown",
   "metadata": {},
   "source": [
    "## Distribution of semi major axes"
   ]
  },
  {
   "cell_type": "markdown",
   "metadata": {},
   "source": [
    "Minimum semimajor axis"
   ]
  },
  {
   "cell_type": "code",
   "execution_count": 59,
   "metadata": {},
   "outputs": [
    {
     "data": {
      "image/png": "[encoded data removed]",
      "text/latex": [
       "$$\\overline{A}_{\\min} = 2.04081632653061 R_{1} q^{\\frac{2}{3}} \\left(\\log{\\left (1 + \\frac{1}{\\sqrt[3]{q}} \\right )} + \\frac{0.6}{q^{\\frac{2}{3}}}\\right)$$"
      ],
      "text/plain": [
       "                                           2/3 ⎛   ⎛      1  ⎞   0.6 ⎞\n",
       "\\overline{A}_{\\min} = 2.04081632653061⋅R₁⋅q   ⋅⎜log⎜1 + ─────⎟ + ────⎟\n",
       "                                               ⎜   ⎜    3 ___⎟    2/3⎟\n",
       "                                               ⎝   ⎝    ╲╱ q ⎠   q   ⎠"
      ]
     },
     "execution_count": 59,
     "metadata": {},
     "output_type": "execute_result"
    }
   ],
   "source": [
    "A_bar_min = sympy.Symbol(r'\\overline{A}_{\\min}')\n",
    "q = sympy.Symbol('q', positive=True) # Mass ratio\n",
    "R_1 = sympy.Symbol('R_1') # Radios of primary\n",
    "eqn_7 = sympy.Eq(A_bar_min, \n",
    "                 (0.6*q**sympy.Rational(-2,3)+sympy.log(1+q**sympy.Rational(-1,3)))*R_1/(0.49*q**sympy.Rational(-2,3)))\n",
    "eqn_7"
   ]
  },
  {
   "cell_type": "markdown",
   "metadata": {},
   "source": [
    "Mass raius relation, from [Demircan and Kahraman 1991](http://adsabs.harvard.edu/abs/1991Ap%26SS.181..313D)"
   ]
  },
  {
   "cell_type": "code",
   "execution_count": 60,
   "metadata": {
    "collapsed": true
   },
   "outputs": [],
   "source": [
    "R_sol = sympy.Symbol('R_{\\odot}') # Solar radius\n",
    "mass_radius_relation = 1.61*m_1_bar**0.83*R_sol"
   ]
  },
  {
   "cell_type": "markdown",
   "metadata": {},
   "source": [
    "Determination of semimajor axes distribution"
   ]
  },
  {
   "cell_type": "code",
   "execution_count": 61,
   "metadata": {},
   "outputs": [
    {
     "data": {
      "image/png": "[encoded data removed]",
      "text/latex": [
       "$$\\frac{1}{\\log{\\left (100000.0 R_{\\odot} \\right )} - \\log{\\left (0.657142857142857 R_{\\odot} \\overline{m}_1^{\\frac{83}{100}} \\left(\\log{\\left (\\left(\\frac{1}{q^{0.333333333333333}} \\left(q^{0.333333333333333} + 1.0\\right)\\right)^{5 q^{\\frac{2}{3}}} \\right )} + 3.0\\right) \\right )}}$$"
      ],
      "text/plain": [
       "                                                                       1      \n",
       "──────────────────────────────────────────────────────────────────────────────\n",
       "                             ⎛                                          83 ⎛  \n",
       "                             ⎜                                         ─── ⎜  \n",
       "                             ⎜                                         100 ⎜  \n",
       "log(100000.0⋅R_{\\odot}) - log⎝0.657142857142857⋅R_{\\odot}⋅\\overline{m}₁   ⋅⎝lo\n",
       "\n",
       "                                                                 \n",
       "─────────────────────────────────────────────────────────────────\n",
       " ⎛                                                   2/3⎞      ⎞⎞\n",
       " ⎜                                                5⋅q   ⎟      ⎟⎟\n",
       " ⎜⎛ -0.333333333333333 ⎛ 0.333333333333333      ⎞⎞      ⎟      ⎟⎟\n",
       "g⎝⎝q                  ⋅⎝q                  + 1.0⎠⎠      ⎠ + 3.0⎠⎠"
      ]
     },
     "execution_count": 61,
     "metadata": {},
     "output_type": "execute_result"
    }
   ],
   "source": [
    "A_bar_max = sympy.Symbol(r'\\overline{A}_{\\max}')\n",
    "temp = Gamma_0/A_bar\n",
    "temp = sympy.integrate(temp, (A_bar, A_bar_min, A_bar_max))\n",
    "temp = temp.subs(A_bar_max, 1e5*R_sol).subs(eqn_7.lhs, eqn_7.rhs).subs(R_1, mass_radius_relation)\n",
    "Gamma_0_expr = sympy.solve(temp-1,Gamma_0)[0]\n",
    "Gamma_0_expr"
   ]
  },
  {
   "cell_type": "markdown",
   "metadata": {},
   "source": [
    "## Lifetimes"
   ]
  },
  {
   "cell_type": "code",
   "execution_count": 62,
   "metadata": {},
   "outputs": [
    {
     "data": {
      "image/png": "[encoded data removed]",
      "text/latex": [
       "$$\\frac{\\tau_{r}}{\\overline{m}_1^{2.5}}$$"
      ],
      "text/plain": [
       "             -2.5   \n",
       "\\overline{m}₁    ⋅τᵣ"
      ]
     },
     "execution_count": 62,
     "metadata": {},
     "output_type": "execute_result"
    }
   ],
   "source": [
    "tau_r = sympy.Symbol('tau_r') # Reference lifetime (10 Gy)\n",
    "lifetime_mass_relation = tau_r*m_1_bar**(-2.5)\n",
    "lifetime_mass_relation"
   ]
  },
  {
   "cell_type": "markdown",
   "metadata": {},
   "source": [
    "## Putting it all together"
   ]
  },
  {
   "cell_type": "markdown",
   "metadata": {},
   "source": [
    "Carrying out the integral in equation 15"
   ]
  },
  {
   "cell_type": "code",
   "execution_count": 63,
   "metadata": {},
   "outputs": [
    {
     "data": {
      "image/png": "[encoded data removed]",
      "text/latex": [
       "$$\\frac{\\Upsilon \\tau_{r}}{\\overline{A}} 1.52623499282772 \\cdot 10^{-14}$$"
      ],
      "text/plain": [
       "1.52623499282772e-14⋅Υ⋅τᵣ\n",
       "─────────────────────────\n",
       "       \\overline{A}      "
      ]
     },
     "execution_count": 63,
     "metadata": {},
     "output_type": "execute_result"
    }
   ],
   "source": [
    "solar_radius_in_pc = 2.25e-8\n",
    "D_max = sympy.Symbol(r'D_{\\max}')\n",
    "temp = eqn_15_integrand_raw.subs(eqn_11.lhs, eqn_11.rhs).subs(eqn_12_var.lhs, eqn_12_var.rhs)\n",
    "temp = temp.subs(eqn_13.lhs, eqn_13.rhs)\n",
    "temp = temp.subs(eqn_14.lhs, eqn_14.rhs)\n",
    "temp = temp.subs(eqn_3.lhs, eqn_3.rhs)\n",
    "temp = temp.subs(Gamma_0, Gamma_0_expr)\n",
    "temp = temp.subs(Psi, eqn_1.rhs.args[1][0])\n",
    "temp = temp.subs(eqn_1_coefficients)\n",
    "temp = temp.subs(t_L1,lifetime_mass_relation)\n",
    "temp = temp.subs(t_L2,lifetime_mass_relation.subs(m_1_bar,m_1_bar*q))\n",
    "temp = temp.subs(M_min_bar, 0.08*M_sol)\n",
    "temp = temp.subs(M_1_bar, m_1_bar*M_sol)\n",
    "temp = temp.subs(h_z, 250)\n",
    "temp = temp.subs(h_r, 3500)\n",
    "temp = temp.subs(r_0, 8000)\n",
    "temp = temp.subs(b, 1)\n",
    "temp = temp.subs(l, sympy.Rational(1,2))\n",
    "temp = temp.subs(D, 100)\n",
    "temp = temp.subs(f_bin, 0.5)\n",
    "temp = temp.subs(q, 0.1)\n",
    "temp = temp.subs(R_sol, solar_radius_in_pc)\n",
    "temp = temp.subs(m_1_bar, 30)\n",
    "temp.n()"
   ]
  },
  {
   "cell_type": "markdown",
   "metadata": {},
   "source": [
    "# Step by Step Integration"
   ]
  },
  {
   "cell_type": "markdown",
   "metadata": {},
   "source": [
    "In this section we break up the integral in equation 15 into different categories, and consider each category separately to obtain insight to the problem. We begin by eliminating the units. From the star formation rate $3.5 \\, M_{\\odot} / \\rm year$, a typical timescale $\\tau_r = 10 \\, \\rm Gyr$ and a typical mass $M_{\\odot}$ we obtain the total number of stars $3.5 \\cdot 10^{10}$. From this point, each integral filters out the irrelevant stars and reduces this number,"
   ]
  },
  {
   "cell_type": "markdown",
   "metadata": {},
   "source": [
    "## Primary mass\n",
    "In this section we filter out all primaries below the necessary mass needed to collapse to a black hole"
   ]
  },
  {
   "cell_type": "code",
   "execution_count": 111,
   "metadata": {},
   "outputs": [
    {
     "data": {
      "image/png": "[encoded data removed]",
      "text/latex": [
       "$$112437237.608$$"
      ],
      "text/plain": [
       "112437237.608"
      ]
     },
     "execution_count": 111,
     "metadata": {},
     "output_type": "execute_result"
    }
   ],
   "source": [
    "def integrand_func_mk_1(m1):\n",
    "    \n",
    "    if m1<20:\n",
    "        return 0\n",
    "    return 3.5e10*0.22*m1**(-2.3)\n",
    "\n",
    "m_range = numpy.linspace(20,100) # Primary mass range\n",
    "dm = m_range[1] - m_range[0]\n",
    "numpy.sum([integrand_func_mk_1(m1) for m1 in m_range])*dm"
   ]
  },
  {
   "cell_type": "markdown",
   "metadata": {},
   "source": [
    "## Mass ratio"
   ]
  },
  {
   "cell_type": "markdown",
   "metadata": {},
   "source": [
    "We filter out large companion masses because their lifetime is too short, and low masses because they are too dim"
   ]
  },
  {
   "cell_type": "code",
   "execution_count": 116,
   "metadata": {},
   "outputs": [
    {
     "data": {
      "image/png": "[encoded data removed]",
      "text/latex": [
       "$$12500541.2647$$"
      ],
      "text/plain": [
       "12500541.2647"
      ]
     },
     "execution_count": 116,
     "metadata": {},
     "output_type": "execute_result"
    }
   ],
   "source": [
    "def integrand_func_mk_2(m1, q):\n",
    "\n",
    "    m2min = 0.4\n",
    "    if m2min/m1>q:\n",
    "        return 0\n",
    "    return integrand_func_mk_1(m1)/(1-m2min/m1)*m1**-2.5*(q**-2.5-1)\n",
    "\n",
    "m_range = numpy.linspace(20,100) # Range of primary masses\n",
    "q_range = numpy.linspace(0, 1) # Range of mass ratios\n",
    "dm = m_range[1] - m_range[0] # Mass interval\n",
    "dq = q_range[1] - q_range[0] # Mass ratio interval\n",
    "numpy.sum([[integrand_func_mk_2(m1, q) for m1 in m_range] for q in q_range])*dm*dq"
   ]
  },
  {
   "cell_type": "markdown",
   "metadata": {
    "collapsed": true
   },
   "source": [
    "## Semi major axis"
   ]
  },
  {
   "cell_type": "code",
   "execution_count": 126,
   "metadata": {},
   "outputs": [
    {
     "data": {
      "image/png": "[encoded data removed]",
      "text/latex": [
       "$$1632373.63416$$"
      ],
      "text/plain": [
       "1632373.63416"
      ]
     },
     "execution_count": 126,
     "metadata": {},
     "output_type": "execute_result"
    }
   ],
   "source": [
    "def integrand_func_mk_3(m1,q,lnA):\n",
    "    \n",
    "    A_max_val = 1e5\n",
    "    D_ref = 4e10 # Reference distance, 1 kpc in solar radii\n",
    "    uas = 5e-12 # micro arcsecond in radius\n",
    "    gaia_angular_res = 300*uas # Gaia angular sensitivity\n",
    "    A_min_val = 0.66*m1**0.83*(3.0+5*q**0.67*numpy.log(1+q**0.33))\n",
    "    A_period = 2000 # http://www.wolframalpha.com/input/?i=((solar+mass)*(gravitation+constant)*(5+year)%5E2)%5E(1%2F3)%2F(solar+radius)\n",
    "    if lnA>numpy.log10(max(A_period, A_max_val)) or lnA<numpy.log10(A_min_val) or lnA<numpy.log10(gaia_angular_res)+numpy.log10(D_ref):\n",
    "        return 0\n",
    "    G0_val = 1.0/numpy.log10(A_max_val/A_min_val)\n",
    "    \n",
    "    return integrand_func_mk_2(m1,q)*G0_val\n",
    "\n",
    "m_range = numpy.linspace(20,100,10) # Range of primary masses\n",
    "q_range = numpy.linspace(0, 1, 10) # Range of mass ratios\n",
    "lnA_range = numpy.linspace(-1, 5, 10) # Rand of semi - major axis\n",
    "dm = m_range[1] - m_range[0] # Mass interval\n",
    "dq = q_range[1] - q_range[0] # Mass ratio interval\n",
    "dlnA = lnA_range[1] - lnA_range[0] # semi major axis interval\n",
    "numpy.sum([[[integrand_func_mk_3(m1, q, lnA) for m1 in m_range] \n",
    "            for q in q_range]\n",
    "           for lnA in lnA_range])*dm*dq*dlnA"
   ]
  }
 ],
 "metadata": {
  "kernelspec": {
   "display_name": "Python 3",
   "language": "python",
   "name": "python3"
  },
  "language_info": {
   "codemirror_mode": {
    "name": "ipython",
    "version": 3
   },
   "file_extension": ".py",
   "mimetype": "text/x-python",
   "name": "python",
   "nbconvert_exporter": "python",
   "pygments_lexer": "ipython3",
   "version": "3.6.1"
  }
 },
 "nbformat": 4,
 "nbformat_minor": 2
}
